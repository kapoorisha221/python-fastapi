{
 "cells": [
  {
   "cell_type": "code",
   "execution_count": 2,
   "metadata": {},
   "outputs": [],
   "source": [
    "import requests, json"
   ]
  },
  {
   "cell_type": "code",
   "execution_count": null,
   "metadata": {},
   "outputs": [],
   "source": [
    "curl -i -X POST https://<your-language-resource-endpoint>/language/:analyze-text?api-version=2022-05-01 \\\n",
    "-H \"Content-Type: application/json\" \\\n",
    "-H \"Ocp-Apim-Subscription-Key: <your-language-resource-key>\" \\\n",
    "-d \\\n",
    "'\n",
    "{\n",
    "    \"kind\": \"KeyPhraseExtraction\",\n",
    "    \"parameters\": {\n",
    "        \"modelVersion\": \"latest\"\n",
    "    },\n",
    "    \"analysisInput\":{\n",
    "        \"documents\":[\n",
    "            {\n",
    "                \"id\":\"1\",\n",
    "                \"language\":\"en\",\n",
    "                \"text\": \"Dr. Smith has a very modern medical office, and she has great staff.\"\n",
    "            }\n",
    "        ]\n",
    "    }\n",
    "}\n",
    "'"
   ]
  },
  {
   "cell_type": "code",
   "execution_count": 5,
   "metadata": {},
   "outputs": [],
   "source": [
    "LANGUAGE_ENDPOINT = \"https://proj-rnd-uae-et-language-001.cognitiveservices.azure.com/\"\n",
    "LANGUAGE_KEY = \"0b938542471248fda3aab56075a251c1\"\n",
    "\n",
    "url = f\"{LANGUAGE_ENDPOINT}/language/:analyze-text?api-version=2022-05-01\"\n",
    "headers = {\n",
    "    \"Content-Type\": \"application/json\",\n",
    "    \"Ocp-Apim-Subscription-Key\": LANGUAGE_KEY\n",
    "}\n",
    "data = {\n",
    "    \"kind\": \"KeyPhraseExtraction\",\n",
    "    \"parameters\": {\n",
    "        \"modelVersion\": \"latest\"\n",
    "    },\n",
    "    \"analysisInput\":{\n",
    "        \"documents\":[\n",
    "            {\n",
    "                \"id\":\"1\",\n",
    "                \"language\":\"en\",\n",
    "                \"text\": \"Dr. Smith has a very modern medical office, and she has great staff.\"\n",
    "            }\n",
    "        ]\n",
    "    }\n",
    "}\n",
    "\n",
    "response = requests.post(url= url, json= data, headers= headers)"
   ]
  },
  {
   "cell_type": "code",
   "execution_count": 6,
   "metadata": {},
   "outputs": [
    {
     "data": {
      "text/plain": [
       "401"
      ]
     },
     "execution_count": 6,
     "metadata": {},
     "output_type": "execute_result"
    }
   ],
   "source": [
    "response.status_code"
   ]
  },
  {
   "cell_type": "code",
   "execution_count": 1,
   "metadata": {},
   "outputs": [],
   "source": [
    "result = {\n",
    "\t\"kind\": \"KeyPhraseExtractionResults\",\n",
    "\t\"results\": {\n",
    "\t\t\"documents\": [{\n",
    "\t\t\t\"id\": \"1\",\n",
    "\t\t\t\"keyPhrases\": [\"modern medical office\", \"Dr. Smith\", \"great staff\"],\n",
    "\t\t\t\"warnings\": []\n",
    "\t\t}],\n",
    "\t\t\"errors\": [],\n",
    "\t\t\"modelVersion\": \"2021-06-01\"\n",
    "\t}\n",
    "}"
   ]
  },
  {
   "cell_type": "code",
   "execution_count": 9,
   "metadata": {},
   "outputs": [],
   "source": [
    "# json.loads(result)"
   ]
  },
  {
   "cell_type": "code",
   "execution_count": 2,
   "metadata": {},
   "outputs": [
    {
     "data": {
      "text/plain": [
       "['modern medical office', 'Dr. Smith', 'great staff']"
      ]
     },
     "execution_count": 2,
     "metadata": {},
     "output_type": "execute_result"
    }
   ],
   "source": [
    "result[\"results\"][\"documents\"][0][\"keyPhrases\"]"
   ]
  },
  {
   "cell_type": "code",
   "execution_count": 15,
   "metadata": {},
   "outputs": [
    {
     "data": {
      "text/plain": [
       "[]"
      ]
     },
     "execution_count": 15,
     "metadata": {},
     "output_type": "execute_result"
    }
   ],
   "source": [
    "result[\"results\"][\"errors\"]"
   ]
  },
  {
   "cell_type": "code",
   "execution_count": null,
   "metadata": {},
   "outputs": [],
   "source": []
  }
 ],
 "metadata": {
  "kernelspec": {
   "display_name": "Python 3",
   "language": "python",
   "name": "python3"
  },
  "language_info": {
   "codemirror_mode": {
    "name": "ipython",
    "version": 3
   },
   "file_extension": ".py",
   "mimetype": "text/x-python",
   "name": "python",
   "nbconvert_exporter": "python",
   "pygments_lexer": "ipython3",
   "version": "3.8.10"
  }
 },
 "nbformat": 4,
 "nbformat_minor": 2
}
