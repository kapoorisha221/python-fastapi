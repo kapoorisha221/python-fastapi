{
 "cells": [
  {
   "cell_type": "code",
   "execution_count": 1,
   "metadata": {},
   "outputs": [],
   "source": [
    "import json, os\n",
    "# from config import *\n",
    "# from azure.core.credentials import AzureKeyCredential\n",
    "from azure.ai.textanalytics import (\n",
    "    TextAnalyticsClient,\n",
    "    ExtractiveSummaryAction,\n",
    "     AbstractiveSummaryAction\n",
    ") \n",
    "from azure.ai.textanalytics import TextAnalyticsClient\n",
    "from azure.core.credentials import AzureKeyCredential\n",
    "\n",
    "class Summarization():\n",
    "\n",
    "    def __init__(self, transcripts):\n",
    "        self.transcripts = transcripts\n",
    "        self.with_diarisation_flag = False\n",
    "        self.document = []\n",
    "        self.text_to_append = \"\"\n",
    "\n",
    "        ###### CREDS #######\n",
    "        self.key = \"0b938542471248fda3aab56075a251c1\"\n",
    "        self.endpoint = \"https://proj-rnd-uae-et-language-001.cognitiveservices.azure.com/\"\n",
    "        \n",
    "\n",
    "    def get_text(self):\n",
    "\n",
    "        transcriptions = self.transcripts[\"transcript\"]\n",
    "        #text_to_summarise = \"\"\n",
    "        text_to_summarise_ls = []\n",
    "        \n",
    "        for item in transcriptions:\n",
    "            text = \"\"\n",
    "            if self.with_diarisation_flag:\n",
    "                # text_to_summarise = text_to_summarise + item[\"speaker\"] + \": \" + item[\"dialogue\"] + \"\\n\"\n",
    "                text =  item[\"speaker\"] + \": \" + item[\"dialogue\"] \n",
    "            else:\n",
    "            #    text_to_summarise = text_to_summarise +  item[\"dialogue\"] + \"\\n\" \n",
    "                text =  item[\"dialogue\"] \n",
    "            text_to_summarise_ls.append(text)\n",
    "\n",
    "        self.document = text_to_summarise_ls\n",
    "        self.document= [\" \".join(text_to_summarise_ls)]\n",
    "    def summarise_main(self):\n",
    "        pass\n",
    "\n",
    "\n",
    "\n",
    "    # Authenticate the client using your key and endpoint \n",
    "    def authenticate_client(self):\n",
    "        ta_credential = AzureKeyCredential(self.key)\n",
    "        text_analytics_client = TextAnalyticsClient(\n",
    "                endpoint=self.endpoint, \n",
    "                credential=ta_credential)\n",
    "        return text_analytics_client\n",
    "\n",
    "    \n",
    "\n",
    "    # Example method for summarizing text\n",
    "    def sample_extractive_summarization(self, client):\n",
    "\n",
    "        document = self.document\n",
    "        poller = client.begin_analyze_actions(\n",
    "            document,\n",
    "            actions=[\n",
    "                ExtractiveSummaryAction(max_sentence_count=4)\n",
    "                #  AbstractiveSummaryAction(max_sentence_count = 4)\n",
    "            ],\n",
    "        )\n",
    "\n",
    "        document_results = poller.result()\n",
    "        for result in document_results:\n",
    "            extract_summary_result = result[0]  # first document, first result\n",
    "            if extract_summary_result.is_error:\n",
    "                print(\"...Is an error with code '{}' and message '{}'\".format(\n",
    "                    extract_summary_result.code, extract_summary_result.message\n",
    "                ))\n",
    "            else:\n",
    "                print(\"Summary extracted: \\n{}\".format(\n",
    "                    \" \".join([sentence.text for sentence in extract_summary_result.sentences]))\n",
    "                )\n",
    "\n",
    "    \n",
    "\n",
    "    \n",
    "\n",
    "\n",
    "\n",
    "# if __name__ == \"__main__\":\n",
    "    # with open(file= \"./data/analytics/samplecopy_1.json\", mode= \"r\") as fp:\n",
    "    #     transcripts = json.load(fp= fp)\n",
    "    #C:\\Users\\GagandeepSingh\\Desktop\\PROJ-EGYPT\\PROJ-EGYPT\\data\\analytics\\analytics_output.json\n",
    "with open(\"./data/analytics/analytics_output.json\") as fp:\n",
    "    data = json.load(fp)\n",
    "\n",
    "transcripts = data[\"result_2\"][\"transcripts\"]\n",
    "obj = Summarization(transcripts= transcripts)\n",
    "obj.get_text()\n",
    "# client = obj.authenticate_client()\n",
    "# obj.sample_extractive_summarization(client)"
   ]
  },
  {
   "cell_type": "code",
   "execution_count": 12,
   "metadata": {},
   "outputs": [
    {
     "name": "stdout",
     "output_type": "stream",
     "text": [
      "data\u0007udio_analytics/sample_audio\n"
     ]
    }
   ],
   "source": [
    "import re\n",
    "import pathlib\n",
    "\n",
    "s1 = \"data\\audio_analytics\\sample_audio\"\n",
    "p = pathlib.PureWindowsPath(s1)\n",
    "print(str(p.as_posix()))\n",
    "\n",
    "# re.sub(r'\\\\', '/', s1)"
   ]
  },
  {
   "cell_type": "code",
   "execution_count": 3,
   "metadata": {},
   "outputs": [
    {
     "data": {
      "text/plain": [
       "'Hello. How can I help Manoj from C Bank\\'s loan loan department? Yeh Namaskar Manoj, my name is Vikrant and I wanted information about the vehicle loan.  Yes absolutely Vikram ji, you will be given complete information about the loan. I need some information from you before giving information about Alone. May I know what type of car you want to buy? We are thinking of buying a car that I want to take on loan duration_to_play.  \"What are the required documents? I needed a little information from you about what I needed. Yes absolutely Vikrant ji, we have multiple plans for vehicle loans and before that I would like to know your budget and I would like to know what type of car you want to buy.\\' Do you want an SUV or do you want a hatchback or do you want to buy some other type of vehicle? Can you give me information about it? are now. Thinking of buying a hatchback and my budget is up to ₹10,00,000. Yes, exactly like Vikrant ji you. information given. You want to buy a hatchback car and your budget is eight to ₹ 10,00,000.  You will be fully assisted in this subject. See as you want to know.  If you want to know about the interest rate of the loan and the documents and courses required, then I would like to tell you what we are right now.  Interest rate is 11.25% which you are being offered by the company on our behalf and you are being given interest rates from radio. Under the offer, I would like to tell you that the minimum in your loan drum is 3 years and the maximum term of your loan is 6 years. When you take a loan. So you have to pay 10% upfront and up to 90% you. Loan can be approved Your loan can be approved for 3 years, 4 years, 5 years or 6 years as per your convenience.  Select. Whatever your loan amount is approved, a monthly EMI will be set up according to whatever interest you have. You.  Can tell the appropriate date. Whatever the date of the month, you are preferred and on that date the EMI ban will be started from your account.  You said 11.55 live. 11.5. 11.25 percent? van 2411.25%. So these are the interests that remain as far as I know, what I have told you is your CIBIL score. depends on right. g Mere cibil score ye to aapne So general, I think you have told me one of the interest rates which I think is a bit high, but according to my CIBIL score, you will be able to tell me what the interest rate will be for me? Of course, I would like to tell you if you have an account with our ABC Bank.  OK and your CIBIL score is 800. If you are above, you can also be approved a loan at 11%. Yes, for this, we have to share some documents with you. When you apply for a loan, you will have to copy your Aadhaar card along with the application form.  You have to give a copy of your PAN card and you have to give your Form 16. Last financial. Plus your CIBIL score is based on your PAN card from our side. Nikle. If your CIBIL score is above 800 and you can check our bank cake.  So you will be approved a loan at the rate of 11%.  Well, but you will not be able to tell me right now, how much is the score from me and what is the rate on it, only after giving me this document. Tell me exactly because when you share the PAN card number with us, I will be able to give you all this information. Okay, well, I\\'ll tell you once whatever I have. I visit a bank from the branch where my account is also open and I submit whatever document is there and then I process it. Yes, of course.  Ok, I think I think I have got the information I needed. So thank you Manoj. That you provided me with this information, thank you very much. G Vikram ji, would you like to get any more information? G Vikas ji, thank you for calling the LDC loan department. Have a nice day.  Thank you madam, you too.'"
      ]
     },
     "execution_count": 3,
     "metadata": {},
     "output_type": "execute_result"
    }
   ],
   "source": [
    "obj.document[0]"
   ]
  },
  {
   "cell_type": "code",
   "execution_count": 61,
   "metadata": {},
   "outputs": [],
   "source": [
    "import requests\n",
    "\n",
    "LANGUAGE_ENDPOINT = \"https://proj-rnd-uae-et-language-001.cognitiveservices.azure.com/\"\n",
    "url = f\"{LANGUAGE_ENDPOINT}/language/analyze-text/jobs?api-version=2023-04-01\"\n",
    "key = \"0b938542471248fda3aab56075a251c1\"\n",
    "text = obj.document[0]\n",
    "data = {\n",
    "  \"displayName\": \"Document ext Summarization Task Example\",\n",
    "  \"analysisInput\": {\n",
    "    \"documents\": [\n",
    "      {\n",
    "        \"id\": \"1\",\n",
    "        \"language\": \"en\",\n",
    "        \"text\": text\n",
    "      }\n",
    "    ]\n",
    "  },\n",
    "  \"tasks\": [\n",
    "    {\n",
    "      \"kind\": \"ExtractiveSummarization\",\n",
    "      \"taskName\": \"Document Extractive Summarization Task 1\",\n",
    "      \"parameters\": {\n",
    "        \"sentenceCount\": 6\n",
    "      }\n",
    "    }\n",
    "  ]\n",
    "}\n",
    "\n",
    "headers = {\n",
    "    \"Content-Type\": \"application/json\",\n",
    "    \"Ocp-Apim-Subscription-Key\": key\n",
    "}\n",
    "\n",
    "res = requests.post(url = url, headers= headers, json= data)"
   ]
  },
  {
   "cell_type": "code",
   "execution_count": 62,
   "metadata": {},
   "outputs": [
    {
     "data": {
      "text/plain": [
       "202"
      ]
     },
     "execution_count": 62,
     "metadata": {},
     "output_type": "execute_result"
    }
   ],
   "source": [
    "res.status_code"
   ]
  },
  {
   "cell_type": "code",
   "execution_count": 63,
   "metadata": {},
   "outputs": [
    {
     "data": {
      "text/plain": [
       "'https://proj-rnd-uae-et-language-001.cognitiveservices.azure.com/language/analyze-text/jobs/b837a62e-1a33-497c-b3b3-620138a532cd?api-version=2023-04-01'"
      ]
     },
     "execution_count": 63,
     "metadata": {},
     "output_type": "execute_result"
    }
   ],
   "source": [
    "operation_location = res.headers[\"operation-location\"]\n",
    "operation_location"
   ]
  },
  {
   "cell_type": "code",
   "execution_count": 64,
   "metadata": {},
   "outputs": [
    {
     "data": {
      "text/plain": [
       "'b837a62e-1a33-497c-b3b3-620138a532cd'"
      ]
     },
     "execution_count": 64,
     "metadata": {},
     "output_type": "execute_result"
    }
   ],
   "source": [
    "job_id = operation_location.split(\"/\")[-1].split(\"?\")[0]\n",
    "job_id"
   ]
  },
  {
   "cell_type": "code",
   "execution_count": 65,
   "metadata": {},
   "outputs": [],
   "source": [
    "\n",
    "url = f\"{LANGUAGE_ENDPOINT}/language/analyze-text/jobs/{job_id}?api-version=2023-04-01\"\n",
    "res2 = requests.get(url = url, headers= headers)"
   ]
  },
  {
   "cell_type": "code",
   "execution_count": 66,
   "metadata": {},
   "outputs": [],
   "source": [
    "extractive_summary_response = res2"
   ]
  },
  {
   "cell_type": "code",
   "execution_count": 67,
   "metadata": {},
   "outputs": [
    {
     "data": {
      "text/plain": [
       "200"
      ]
     },
     "execution_count": 67,
     "metadata": {},
     "output_type": "execute_result"
    }
   ],
   "source": [
    "res2.status_code"
   ]
  },
  {
   "cell_type": "code",
   "execution_count": 68,
   "metadata": {},
   "outputs": [
    {
     "data": {
      "text/plain": [
       "{'jobId': 'b837a62e-1a33-497c-b3b3-620138a532cd',\n",
       " 'lastUpdatedDateTime': '2024-02-15T12:30:06Z',\n",
       " 'createdDateTime': '2024-02-15T12:30:04Z',\n",
       " 'expirationDateTime': '2024-02-16T12:30:04Z',\n",
       " 'status': 'succeeded',\n",
       " 'errors': [],\n",
       " 'displayName': 'Document ext Summarization Task Example',\n",
       " 'tasks': {'completed': 1,\n",
       "  'failed': 0,\n",
       "  'inProgress': 0,\n",
       "  'total': 1,\n",
       "  'items': [{'kind': 'ExtractiveSummarizationLROResults',\n",
       "    'taskName': 'Document Extractive Summarization Task 1',\n",
       "    'lastUpdateDateTime': '2024-02-15T12:30:06.4804872Z',\n",
       "    'status': 'succeeded',\n",
       "    'results': {'documents': [{'id': '1',\n",
       "       'sentences': [{'text': 'Yeh Namaskar Manoj, my name is Vikrant and I wanted information about the vehicle loan.',\n",
       "         'rankScore': 1.0,\n",
       "         'offset': 64,\n",
       "         'length': 87},\n",
       "        {'text': \"Yes absolutely Vikrant ji, we have multiple plans for vehicle loans and before that I would like to know your budget and I would like to know what type of car you want to buy.'\",\n",
       "         'rankScore': 0.92,\n",
       "         'offset': 524,\n",
       "         'length': 176},\n",
       "        {'text': 'You want to buy a hatchback car and your budget is eight to ₹ 10,00,000.',\n",
       "         'rankScore': 0.84,\n",
       "         'offset': 963,\n",
       "         'length': 72},\n",
       "        {'text': 'If you want to know about the interest rate of the loan and the documents and courses required, then I would like to tell you what we are right now.',\n",
       "         'rankScore': 0.96,\n",
       "         'offset': 1107,\n",
       "         'length': 148},\n",
       "        {'text': 'Whatever your loan amount is approved, a monthly EMI will be set up according to whatever interest you have.',\n",
       "         'rankScore': 0.88,\n",
       "         'offset': 1717,\n",
       "         'length': 108},\n",
       "        {'text': 'When you apply for a loan, you will have to copy your Aadhaar card along with the application form.',\n",
       "         'rankScore': 0.95,\n",
       "         'offset': 2600,\n",
       "         'length': 99}],\n",
       "       'warnings': []}],\n",
       "     'errors': [],\n",
       "     'modelVersion': '2023-02-01-preview'}}]}}"
      ]
     },
     "execution_count": 68,
     "metadata": {},
     "output_type": "execute_result"
    }
   ],
   "source": [
    "extractive_summary_response = json.loads(extractive_summary_response.text)\n",
    "extractive_summary_response"
   ]
  },
  {
   "cell_type": "code",
   "execution_count": 69,
   "metadata": {},
   "outputs": [
    {
     "data": {
      "text/plain": [
       "dict_keys(['jobId', 'lastUpdatedDateTime', 'createdDateTime', 'expirationDateTime', 'status', 'errors', 'displayName', 'tasks'])"
      ]
     },
     "execution_count": 69,
     "metadata": {},
     "output_type": "execute_result"
    }
   ],
   "source": [
    "extractive_summary_response.keys()"
   ]
  },
  {
   "cell_type": "code",
   "execution_count": 70,
   "metadata": {},
   "outputs": [],
   "source": [
    "def get_extractive_summary(extractive_summary_response):\n",
    "    status = False\n",
    "    if extractive_summary_response[\"status\"].lower() == \"succeeded\":\n",
    "        extractive_summary = extractive_summary_response[\"tasks\"]\n",
    "        final_summary = \"\"\n",
    "        for item in extractive_summary[\"items\"][0][\"results\"][\"documents\"][0][\"sentences\"]:\n",
    "            final_summary += item[\"text\"]\n",
    "        status = True\n",
    "    else:\n",
    "        errors = \"\".join(extractive_summary_response[\"errors\"])\n",
    "\n",
    "    if status:\n",
    "        return {\"status\": \"success\", \"summary\": final_summary}\n",
    "    else:\n",
    "        return {\"status\": \"fail\", \"error\": errors}\n"
   ]
  },
  {
   "cell_type": "code",
   "execution_count": 71,
   "metadata": {},
   "outputs": [
    {
     "data": {
      "text/plain": [
       "{'status': 'success',\n",
       " 'summary': \"Yeh Namaskar Manoj, my name is Vikrant and I wanted information about the vehicle loan.Yes absolutely Vikrant ji, we have multiple plans for vehicle loans and before that I would like to know your budget and I would like to know what type of car you want to buy.'You want to buy a hatchback car and your budget is eight to ₹ 10,00,000.If you want to know about the interest rate of the loan and the documents and courses required, then I would like to tell you what we are right now.Whatever your loan amount is approved, a monthly EMI will be set up according to whatever interest you have.When you apply for a loan, you will have to copy your Aadhaar card along with the application form.\"}"
      ]
     },
     "execution_count": 71,
     "metadata": {},
     "output_type": "execute_result"
    }
   ],
   "source": [
    "get_extractive_summary(extractive_summary_response)"
   ]
  },
  {
   "cell_type": "code",
   "execution_count": 55,
   "metadata": {},
   "outputs": [
    {
     "data": {
      "text/plain": [
       "True"
      ]
     },
     "execution_count": 55,
     "metadata": {},
     "output_type": "execute_result"
    }
   ],
   "source": [
    "type(\"\") == str"
   ]
  },
  {
   "cell_type": "code",
   "execution_count": 51,
   "metadata": {},
   "outputs": [
    {
     "data": {
      "text/plain": [
       "['Yeh Namaskar Manoj, my name is Vikrant and I wanted information about the vehicle loan',\n",
       " 'Yes absolutely Vikrant ji, we have multiple plans for vehicle loans and before that I would like to know your budget and I would like to know what type of car you want to buy',\n",
       " \"'You want to buy a hatchback car and your budget is eight to ₹ 10,00,000\",\n",
       " 'If you want to know about the interest rate of the loan and the documents and courses required, then I would like to tell you what we are right now',\n",
       " 'Whatever your loan amount is approved, a monthly EMI will be set up according to whatever interest you have',\n",
       " 'When you apply for a loan, you will have to copy your Aadhaar card along with the application form',\n",
       " '']"
      ]
     },
     "execution_count": 51,
     "metadata": {},
     "output_type": "execute_result"
    }
   ],
   "source": [
    "final_summary.split(\".\")"
   ]
  },
  {
   "cell_type": "code",
   "execution_count": 76,
   "metadata": {},
   "outputs": [],
   "source": [
    "import requests, time\n",
    "\n",
    "LANGUAGE_ENDPOINT = \"https://proj-rnd-uae-et-language-001.cognitiveservices.azure.com/\"\n",
    "url = f\"{LANGUAGE_ENDPOINT}/language/analyze-text/jobs?api-version=2023-04-01\"\n",
    "key = \"0b938542471248fda3aab56075a251c1\"\n",
    "text = obj.document[0]\n",
    "data = {\n",
    "  \"displayName\": \"Document ext Summarization Task Example\",\n",
    "  \"analysisInput\": {\n",
    "    \"documents\": [\n",
    "      {\n",
    "        \"id\": \"1\",\n",
    "        \"language\": \"en\",\n",
    "        \"text\": text\n",
    "      }\n",
    "    ]\n",
    "  },\n",
    "  \"tasks\": [\n",
    "    {\n",
    "      \"kind\": \"ExtractiveSummarization\",\n",
    "      \"taskName\": \"Document Extractive Summarization Task 1\",\n",
    "      \"parameters\": {\n",
    "        \"sentenceCount\": 6\n",
    "      }\n",
    "    }\n",
    "  ]\n",
    "}\n",
    "\n",
    "headers = {\n",
    "    \"Content-Type\": \"application/json\",\n",
    "    \"Ocp-Apim-Subscription-Key\": key\n",
    "}\n",
    "\n",
    "res = requests.post(url = url, headers= headers, json= data)\n",
    "#if res.status_code == 202:\n",
    "\n",
    "operation_location = res.headers[\"operation-location\"]\n",
    "job_id = operation_location.split(\"/\")[-1].split(\"?\")[0]\n",
    "url = f\"{LANGUAGE_ENDPOINT}/language/analyze-text/jobs/{job_id}?api-version=2023-04-01\"\n",
    "time.sleep(3)\n",
    "extractive_summary_response= requests.get(url = url, headers= headers)\n",
    "# status 200\n",
    "if extractive_summary_response.status_code == 200:\n",
    "  extractive_summary_response = json.loads(extractive_summary_response.text)\n",
    "\n",
    "  result = get_extractive_summary(extractive_summary_response)\n",
    "else:\n",
    "  error_msg =  f\"status code : {extractive_summary_response.status_code}. Response : {extractive_summary_response.text}\"\n",
    "  result = {\"status\": \"fail\", \"error\":error_msg}\n",
    "\n",
    "\n"
   ]
  },
  {
   "cell_type": "code",
   "execution_count": 77,
   "metadata": {},
   "outputs": [
    {
     "data": {
      "text/plain": [
       "{'status': 'success',\n",
       " 'summary': \"Yeh Namaskar Manoj, my name is Vikrant and I wanted information about the vehicle loan.Yes absolutely Vikrant ji, we have multiple plans for vehicle loans and before that I would like to know your budget and I would like to know what type of car you want to buy.'You want to buy a hatchback car and your budget is eight to ₹ 10,00,000.If you want to know about the interest rate of the loan and the documents and courses required, then I would like to tell you what we are right now.Whatever your loan amount is approved, a monthly EMI will be set up according to whatever interest you have.When you apply for a loan, you will have to copy your Aadhaar card along with the application form.\"}"
      ]
     },
     "execution_count": 77,
     "metadata": {},
     "output_type": "execute_result"
    }
   ],
   "source": [
    "result"
   ]
  },
  {
   "cell_type": "code",
   "execution_count": 58,
   "metadata": {},
   "outputs": [
    {
     "data": {
      "text/plain": [
       "True"
      ]
     },
     "execution_count": 58,
     "metadata": {},
     "output_type": "execute_result"
    }
   ],
   "source": [
    "res.status_code == 202"
   ]
  },
  {
   "cell_type": "code",
   "execution_count": 60,
   "metadata": {},
   "outputs": [
    {
     "data": {
      "text/plain": [
       "'abd 202'"
      ]
     },
     "execution_count": 60,
     "metadata": {},
     "output_type": "execute_result"
    }
   ],
   "source": [
    "f\"abd {res.status_code}\""
   ]
  },
  {
   "cell_type": "code",
   "execution_count": 1,
   "metadata": {},
   "outputs": [],
   "source": [
    "from utils import *"
   ]
  },
  {
   "cell_type": "code",
   "execution_count": 14,
   "metadata": {},
   "outputs": [],
   "source": [
    "text = \"hi hello how are you, Where is Dr. Smith. What is his health\"\n",
    "ar_text= \"مرحبًا، كيف حالك\""
   ]
  },
  {
   "cell_type": "code",
   "execution_count": 3,
   "metadata": {},
   "outputs": [],
   "source": [
    "save_wordcloud(text = ar_text, language= \"ar\")"
   ]
  },
  {
   "cell_type": "code",
   "execution_count": 7,
   "metadata": {},
   "outputs": [
    {
     "data": {
      "text/plain": [
       "{'transcript': [{'dialogue': 'Hello.',\n",
       "   'speaker': 'Agent',\n",
       "   'duration_to_play': '4.24',\n",
       "   'sentiment': 'Neutral'},\n",
       "  {'dialogue': \"How can I help Manoj from C Bank's loan loan department?\",\n",
       "   'speaker': 'Agent',\n",
       "   'duration_to_play': '5.05',\n",
       "   'sentiment': 'Neutral'},\n",
       "  {'dialogue': 'Yeh Namaskar Manoj, my name is Vikrant and I wanted information about the vehicle loan. ',\n",
       "   'speaker': 'Customer',\n",
       "   'duration_to_play': '10.76',\n",
       "   'sentiment': 'Neutral'},\n",
       "  {'dialogue': 'Yes absolutely Vikram ji, you will be given complete information about the loan. I need some information from you before giving information about Alone. May I know what type of car you want to buy?',\n",
       "   'speaker': 'Agent',\n",
       "   'duration_to_play': '20.03',\n",
       "   'sentiment': 'Positive'},\n",
       "  {'dialogue': 'We are thinking of buying a car that I want to take on loan duration_to_play.  \"What are the required documents?',\n",
       "   'speaker': 'Customer',\n",
       "   'duration_to_play': '45.05',\n",
       "   'sentiment': 'Neutral'},\n",
       "  {'dialogue': 'I needed a little information from you about what I needed.',\n",
       "   'speaker': 'Customer',\n",
       "   'duration_to_play': '51.02',\n",
       "   'sentiment': 'Neutral'},\n",
       "  {'dialogue': \"Yes absolutely Vikrant ji, we have multiple plans for vehicle loans and before that I would like to know your budget and I would like to know what type of car you want to buy.' Do you want an SUV or do you want a hatchback or do you want to buy some other type of vehicle? Can you give me information about it?\",\n",
       "   'speaker': 'Agent',\n",
       "   'duration_to_play': '55.79',\n",
       "   'sentiment': 'Positive'},\n",
       "  {'dialogue': 'are now.',\n",
       "   'speaker': 'Customer',\n",
       "   'duration_to_play': '76.49',\n",
       "   'sentiment': 'Neutral'},\n",
       "  {'dialogue': 'Thinking of buying a hatchback and my budget is up to ₹10,00,000.',\n",
       "   'speaker': 'Customer',\n",
       "   'duration_to_play': '79.83',\n",
       "   'sentiment': 'Neutral'},\n",
       "  {'dialogue': 'Yes, exactly like Vikrant ji you.',\n",
       "   'speaker': 'Agent',\n",
       "   'duration_to_play': '88.17',\n",
       "   'sentiment': 'Positive'},\n",
       "  {'dialogue': 'information given. You want to buy a hatchback car and your budget is eight to ₹ 10,00,000. ',\n",
       "   'speaker': 'Agent',\n",
       "   'duration_to_play': '90.05',\n",
       "   'sentiment': 'Positive'},\n",
       "  {'dialogue': 'You will be fully assisted in this subject. See as you want to know. ',\n",
       "   'speaker': 'Agent',\n",
       "   'duration_to_play': '95.67',\n",
       "   'sentiment': 'Positive'},\n",
       "  {'dialogue': 'If you want to know about the interest rate of the loan and the documents and courses required, then I would like to tell you what we are right now. ',\n",
       "   'speaker': 'Agent',\n",
       "   'duration_to_play': '100.05',\n",
       "   'sentiment': 'Positive'},\n",
       "  {'dialogue': 'Interest rate is 11.25% which you are being offered by the company on our behalf and you are being given interest rates from radio. Under the offer, I would like to tell you that the minimum in your loan drum is 3 years and the maximum term of your loan is 6 years. When you take a loan.',\n",
       "   'speaker': 'Agent',\n",
       "   'duration_to_play': '110.12',\n",
       "   'sentiment': 'Positive'},\n",
       "  {'dialogue': 'So you have to pay 10% upfront and up to 90% you.',\n",
       "   'speaker': 'Agent',\n",
       "   'duration_to_play': '135.26',\n",
       "   'sentiment': 'Positive'},\n",
       "  {'dialogue': 'Loan can be approved Your loan can be approved for 3 years, 4 years, 5 years or 6 years as per your convenience. ',\n",
       "   'speaker': 'Agent',\n",
       "   'duration_to_play': '140.23',\n",
       "   'sentiment': 'Positive'},\n",
       "  {'dialogue': 'Select. Whatever your loan amount is approved, a monthly EMI will be set up according to whatever interest you have. You. ',\n",
       "   'speaker': 'Agent',\n",
       "   'duration_to_play': '150.05',\n",
       "   'sentiment': 'Positive'},\n",
       "  {'dialogue': 'Can tell the appropriate date. Whatever the date of the month, you are preferred and on that date the EMI ban will be started from your account. ',\n",
       "   'speaker': 'Agent',\n",
       "   'duration_to_play': '160.18',\n",
       "   'sentiment': 'Positive'},\n",
       "  {'dialogue': 'You said 11.55 live.',\n",
       "   'speaker': 'Customer',\n",
       "   'duration_to_play': '170.7',\n",
       "   'sentiment': 'Neutral'},\n",
       "  {'dialogue': '11.5.',\n",
       "   'speaker': 'Agent',\n",
       "   'duration_to_play': '174.579999999999999',\n",
       "   'sentiment': 'Positive'},\n",
       "  {'dialogue': '11.25',\n",
       "   'speaker': 'Agent',\n",
       "   'duration_to_play': '176.48',\n",
       "   'sentiment': 'Positive'},\n",
       "  {'dialogue': 'percent?',\n",
       "   'speaker': 'Customer',\n",
       "   'duration_to_play': '177.98',\n",
       "   'sentiment': 'Neutral'},\n",
       "  {'dialogue': 'van 2411.25%.',\n",
       "   'speaker': 'Customer',\n",
       "   'duration_to_play': '179.05',\n",
       "   'sentiment': 'Neutral'},\n",
       "  {'dialogue': 'So these are the interests that remain as far as I know, what I have told you is your CIBIL score.',\n",
       "   'speaker': 'Customer',\n",
       "   'duration_to_play': '183.02',\n",
       "   'sentiment': 'Neutral'},\n",
       "  {'dialogue': 'depends on right.',\n",
       "   'speaker': 'Customer',\n",
       "   'duration_to_play': '190.05',\n",
       "   'sentiment': 'Neutral'},\n",
       "  {'dialogue': 'g',\n",
       "   'speaker': 'Agent',\n",
       "   'duration_to_play': '191.75',\n",
       "   'sentiment': 'Neutral'},\n",
       "  {'dialogue': 'Mere cibil score ye to aapne',\n",
       "   'speaker': 'Customer',\n",
       "   'duration_to_play': '192.54',\n",
       "   'sentiment': 'Neutral'},\n",
       "  {'dialogue': 'So general, I think you have told me one of the interest rates which I think is a bit high, but according to my CIBIL score, you will be able to tell me what the interest rate will be for me?',\n",
       "   'speaker': 'Customer',\n",
       "   'duration_to_play': '195.05',\n",
       "   'sentiment': 'Neutral'},\n",
       "  {'dialogue': 'Of course, I would like to tell you if you have an account with our ABC Bank. ',\n",
       "   'speaker': 'Agent',\n",
       "   'duration_to_play': '207.62',\n",
       "   'sentiment': 'Positive'},\n",
       "  {'dialogue': 'OK and your CIBIL score is 800.',\n",
       "   'speaker': 'Agent',\n",
       "   'duration_to_play': '213.06',\n",
       "   'sentiment': 'Positive'},\n",
       "  {'dialogue': 'If you are above, you can also be approved a loan at 11%. Yes, for this, we have to share some documents with you. When you apply for a loan, you will have to copy your Aadhaar card along with the application form. ',\n",
       "   'speaker': 'Agent',\n",
       "   'duration_to_play': '215.07',\n",
       "   'sentiment': 'Positive'},\n",
       "  {'dialogue': 'You have to give a copy of your PAN card and you have to give your Form 16. Last financial.',\n",
       "   'speaker': 'Agent',\n",
       "   'duration_to_play': '230.06',\n",
       "   'sentiment': 'Positive'},\n",
       "  {'dialogue': 'Plus your CIBIL score is based on your PAN card from our side.',\n",
       "   'speaker': 'Agent',\n",
       "   'duration_to_play': '235.8299999999999',\n",
       "   'sentiment': 'Positive'},\n",
       "  {'dialogue': 'Nikle. If your CIBIL score is above 800 and you can check our bank cake. ',\n",
       "   'speaker': 'Agent',\n",
       "   'duration_to_play': '240.11',\n",
       "   'sentiment': 'Positive'},\n",
       "  {'dialogue': 'So you will be approved a loan at the rate of 11%. ',\n",
       "   'speaker': 'Agent',\n",
       "   'duration_to_play': '245.64',\n",
       "   'sentiment': 'Positive'},\n",
       "  {'dialogue': 'Well, but you will not be able to tell me right now, how much is the score from me and what is the rate on it, only after giving me this document.',\n",
       "   'speaker': 'Customer',\n",
       "   'duration_to_play': '250.04',\n",
       "   'sentiment': 'Neutral'},\n",
       "  {'dialogue': 'Tell me exactly because when you share the PAN card number with us, I will be able to give you all this information.',\n",
       "   'speaker': 'Agent',\n",
       "   'duration_to_play': '258.66',\n",
       "   'sentiment': 'Positive'},\n",
       "  {'dialogue': \"Okay, well, I'll tell you once whatever I have.\",\n",
       "   'speaker': 'Customer',\n",
       "   'duration_to_play': '266.38',\n",
       "   'sentiment': 'Neutral'},\n",
       "  {'dialogue': 'I visit a bank from the branch where my account is also open and I submit whatever document is there and then I process it.',\n",
       "   'speaker': 'Customer',\n",
       "   'duration_to_play': '270.2',\n",
       "   'sentiment': 'Neutral'},\n",
       "  {'dialogue': 'Yes, of course. ',\n",
       "   'speaker': 'Agent',\n",
       "   'duration_to_play': '283.96',\n",
       "   'sentiment': 'Positive'},\n",
       "  {'dialogue': 'Ok, I think I think I have got the information I needed.',\n",
       "   'speaker': 'Customer',\n",
       "   'duration_to_play': '285.06',\n",
       "   'sentiment': 'Neutral'},\n",
       "  {'dialogue': 'So thank you Manoj.',\n",
       "   'speaker': 'Customer',\n",
       "   'duration_to_play': '290.83',\n",
       "   'sentiment': 'Positive'},\n",
       "  {'dialogue': 'That you provided me with this information, thank you very much.',\n",
       "   'speaker': 'Customer',\n",
       "   'duration_to_play': '295.12',\n",
       "   'sentiment': 'Positive'},\n",
       "  {'dialogue': 'G Vikram ji, would you like to get any more information?',\n",
       "   'speaker': 'Agent',\n",
       "   'duration_to_play': '301',\n",
       "   'sentiment': 'Neutral'},\n",
       "  {'dialogue': 'G Vikas ji, thank you for calling the LDC loan department. Have a nice day. ',\n",
       "   'speaker': 'Agent',\n",
       "   'duration_to_play': '306.18',\n",
       "   'sentiment': 'Positive'},\n",
       "  {'dialogue': 'Thank you madam, you too.',\n",
       "   'speaker': 'Customer',\n",
       "   'duration_to_play': '311.23',\n",
       "   'sentiment': 'Positive'}],\n",
       " 'audio_id': 'aa9714d6-ecc6-432e-8787-e23f580f5c8c.wav'}"
      ]
     },
     "execution_count": 7,
     "metadata": {},
     "output_type": "execute_result"
    }
   ],
   "source": [
    "with open(\"./data/analytics/analytics_output.json\") as fp:\n",
    "        data = json.load(fp)\n",
    "\n",
    "transcripts = data[\"result_2\"][\"transcripts\"]\n",
    "transcripts"
   ]
  },
  {
   "cell_type": "code",
   "execution_count": 10,
   "metadata": {},
   "outputs": [
    {
     "name": "stdout",
     "output_type": "stream",
     "text": [
      "Hello.\n",
      "How can I help Manoj from C Bank's loan loan department?\n",
      "Yeh Namaskar Manoj, my name is Vikrant and I wanted information about the vehicle loan. \n",
      "Yes absolutely Vikram ji, you will be given complete information about the loan. I need some information from you before giving information about Alone. May I know what type of car you want to buy?\n",
      "We are thinking of buying a car that I want to take on loan duration_to_play.  \"What are the required documents?\n",
      "I needed a little information from you about what I needed.\n",
      "Yes absolutely Vikrant ji, we have multiple plans for vehicle loans and before that I would like to know your budget and I would like to know what type of car you want to buy.' Do you want an SUV or do you want a hatchback or do you want to buy some other type of vehicle? Can you give me information about it?\n",
      "are now.\n",
      "Thinking of buying a hatchback and my budget is up to ₹10,00,000.\n",
      "Yes, exactly like Vikrant ji you.\n",
      "information given. You want to buy a hatchback car and your budget is eight to ₹ 10,00,000. \n",
      "You will be fully assisted in this subject. See as you want to know. \n",
      "If you want to know about the interest rate of the loan and the documents and courses required, then I would like to tell you what we are right now. \n",
      "Interest rate is 11.25% which you are being offered by the company on our behalf and you are being given interest rates from radio. Under the offer, I would like to tell you that the minimum in your loan drum is 3 years and the maximum term of your loan is 6 years. When you take a loan.\n",
      "So you have to pay 10% upfront and up to 90% you.\n",
      "Loan can be approved Your loan can be approved for 3 years, 4 years, 5 years or 6 years as per your convenience. \n",
      "Select. Whatever your loan amount is approved, a monthly EMI will be set up according to whatever interest you have. You. \n",
      "Can tell the appropriate date. Whatever the date of the month, you are preferred and on that date the EMI ban will be started from your account. \n",
      "You said 11.55 live.\n",
      "11.5.\n",
      "11.25\n",
      "percent?\n",
      "van 2411.25%.\n",
      "So these are the interests that remain as far as I know, what I have told you is your CIBIL score.\n",
      "depends on right.\n",
      "g\n",
      "Mere cibil score ye to aapne\n",
      "So general, I think you have told me one of the interest rates which I think is a bit high, but according to my CIBIL score, you will be able to tell me what the interest rate will be for me?\n",
      "Of course, I would like to tell you if you have an account with our ABC Bank. \n",
      "OK and your CIBIL score is 800.\n",
      "If you are above, you can also be approved a loan at 11%. Yes, for this, we have to share some documents with you. When you apply for a loan, you will have to copy your Aadhaar card along with the application form. \n",
      "You have to give a copy of your PAN card and you have to give your Form 16. Last financial.\n",
      "Plus your CIBIL score is based on your PAN card from our side.\n",
      "Nikle. If your CIBIL score is above 800 and you can check our bank cake. \n",
      "So you will be approved a loan at the rate of 11%. \n",
      "Well, but you will not be able to tell me right now, how much is the score from me and what is the rate on it, only after giving me this document.\n",
      "Tell me exactly because when you share the PAN card number with us, I will be able to give you all this information.\n",
      "Okay, well, I'll tell you once whatever I have.\n",
      "I visit a bank from the branch where my account is also open and I submit whatever document is there and then I process it.\n",
      "Yes, of course. \n",
      "Ok, I think I think I have got the information I needed.\n",
      "So thank you Manoj.\n",
      "That you provided me with this information, thank you very much.\n",
      "G Vikram ji, would you like to get any more information?\n",
      "G Vikas ji, thank you for calling the LDC loan department. Have a nice day. \n",
      "Thank you madam, you too.\n"
     ]
    }
   ],
   "source": [
    "for item in transcripts[\"transcript\"]:\n",
    "    print(item[\"dialogue\"])"
   ]
  },
  {
   "cell_type": "code",
   "execution_count": 13,
   "metadata": {},
   "outputs": [],
   "source": [
    "topics = \"\\u062a\\u062c\\u062f\\u064a\\u062f \\u0628\\u0627\\u0642\\u0629 \\u0627\\u0644\\u0625\\u0646\\u062a\\u0631\\u0646\\u062a 75 \\u060c \\u0627\\u0644\\u0628\\u0627\\u0642\\u0627\\u062a \\u0627\\u0644\\u0645\\u062a\\u0627\\u062d\\u0629 \\u060c \\u0627\\u0644\\u0639\\u0631\\u0648\\u0636 \\u0639\\u0644\\u0649 \\u0627\\u0644\\u0628\\u0627\\u0642\\u0627\\u062a.\""
   ]
  },
  {
   "cell_type": "code",
   "execution_count": 14,
   "metadata": {},
   "outputs": [
    {
     "data": {
      "text/plain": [
       "'تجديد باقة الإنترنت 75 ، الباقات المتاحة ، العروض على الباقات.'"
      ]
     },
     "execution_count": 14,
     "metadata": {},
     "output_type": "execute_result"
    }
   ],
   "source": [
    "topics"
   ]
  },
  {
   "cell_type": "code",
   "execution_count": 24,
   "metadata": {},
   "outputs": [
    {
     "data": {
      "text/plain": [
       "['تجديد باقة الإنترنت 75 ', ' الباقات المتاحة ', ' العروض على الباقات.']"
      ]
     },
     "execution_count": 24,
     "metadata": {},
     "output_type": "execute_result"
    }
   ],
   "source": [
    "t = topics.split(\"،\")\n",
    "t"
   ]
  },
  {
   "cell_type": "code",
   "execution_count": 20,
   "metadata": {},
   "outputs": [],
   "source": [
    "with open(file= \"./data/analytics/samplecopy_1.json\", mode= \"r\") as fp:\n",
    "        d = json.load(fp= fp)"
   ]
  },
  {
   "cell_type": "code",
   "execution_count": 21,
   "metadata": {},
   "outputs": [
    {
     "data": {
      "text/plain": [
       "{'result': {'summary': 'يبدو أن المحادثة بين عميل ووكيل فيما يتعلق بتجديد حزمة الإنترنت. يريد العميل تجديد باقة الإنترنت 75 ويقترح الوكيل باقة الإنترنت 70. يسأل العميل عن الشروط ويطلب الوكيل لحظة للتحقق. يسأل العميل عما إذا كان بحاجة إلى الذهاب إلى المقر الرئيسي ويقترح الوكيل القيام بذلك عبر الهاتف. يسأل العميل عن أي عروض ويقول الوكيل إنه لا يوجد أي منها متاح حاليا. يقرر العميل التجديد بدون عرض',\n",
       "  'topics': [],\n",
       "  'wordcloud': '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',\n",
       "  'transcripts': {'transcript': [{'dialogue': 'صباح الخير، اتصالات بسم مع حضرتك.',\n",
       "     'speaker': 'Agent',\n",
       "     'duration_to_play': '0.6',\n",
       "     'sentiment': 'Neutral'},\n",
       "    {'dialogue': 'ايمن نور أحمد مع حضرتك؟',\n",
       "     'speaker': 'Customer',\n",
       "     'duration_to_play': '3.',\n",
       "     'sentiment': 'Neutral'},\n",
       "    {'dialogue': 'أهلا بيك يا أستاذ أحمد، إزيك عامل إيه يا فندم؟',\n",
       "     'speaker': 'Agent',\n",
       "     'duration_to_play': '4.5',\n",
       "     'sentiment': 'Positive'},\n",
       "    {'dialogue': 'أنا عايزة أجدد باقة الإنترنت 75.',\n",
       "     'speaker': 'Customer',\n",
       "     'duration_to_play': '7.3',\n",
       "     'sentiment': 'Positive.'},\n",
       "    {'dialogue': 'ارجعك تجد باقة الإنترنت كونتكس خمسة؟',\n",
       "     'speaker': 'Agent',\n",
       "     'duration_to_play': '11.5',\n",
       "     'sentiment': 'Neutral'},\n",
       "    {'dialogue': 'و70.',\n",
       "     'speaker': 'Customer',\n",
       "     'duration_to_play': '14.3',\n",
       "     'sentiment': 'Neutral.'},\n",
       "    {'dialogue': 'اه. شروط؟',\n",
       "     'speaker': 'Customer',\n",
       "     'duration_to_play': '15.6',\n",
       "     'sentiment': 'Neutral.'},\n",
       "    {'dialogue': 'لحظة معايا على نفس الرقم يا فندم. تمام؟',\n",
       "     'speaker': 'Agent',\n",
       "     'duration_to_play': '17.3',\n",
       "     'sentiment': 'Neutral.'},\n",
       "    {'dialogue': 'آه. أنا عايزة بالنسبة بالعرض ده في المقر ولا لأ؟',\n",
       "     'speaker': 'Customer',\n",
       "     'duration_to_play': '20.3',\n",
       "     'sentiment': 'Neutral.'},\n",
       "    {'dialogue': 'واحد ولا إثنين؟',\n",
       "     'speaker': 'Customer',\n",
       "     'duration_to_play': '24.2',\n",
       "     'sentiment': 'Neutral'},\n",
       "    {'dialogue': 'لحظة معايا؟',\n",
       "     'speaker': 'Agent',\n",
       "     'duration_to_play': '25.5',\n",
       "     'sentiment': 'Neutral.'},\n",
       "    {'dialogue': 'يا فندم يا فندم. تليفون بس.',\n",
       "     'speaker': 'Customer',\n",
       "     'duration_to_play': '27.5',\n",
       "     'sentiment': 'Neutral.'},\n",
       "    {'dialogue': 'يا الله عليه إيه يعني؟',\n",
       "     'speaker': 'Customer',\n",
       "     'duration_to_play': '30.',\n",
       "     'sentiment': 'Neutral.'},\n",
       "    {'dialogue': 'ياه ده من عشان مكان الشركة ده؟ مش هو ده؟ مش هو ده بتاعك ولا بتاعنا؟',\n",
       "     'speaker': 'Customer',\n",
       "     'duration_to_play': '33.3',\n",
       "     'sentiment': 'Negative.'},\n",
       "    {'dialogue': 'حضرتك معايا؟',\n",
       "     'speaker': 'Agent',\n",
       "     'duration_to_play': '40.7',\n",
       "     'sentiment': 'Neutral.'},\n",
       "    {'dialogue': 'آه؟',\n",
       "     'speaker': 'Customer',\n",
       "     'duration_to_play': '42.5',\n",
       "     'sentiment': 'Neutral.'},\n",
       "    {'dialogue': 'ألو؟',\n",
       "     'speaker': 'Agent',\n",
       "     'duration_to_play': '44.0',\n",
       "     'sentiment': 'Neutral'},\n",
       "    {'dialogue': 'أيوة معاك.',\n",
       "     'speaker': 'Customer',\n",
       "     'duration_to_play': '44.8',\n",
       "     'sentiment': 'Positive.'},\n",
       "    {'dialogue': 'هي الباقة يا فندم، موجودة عند حضرتك بس مش بالعرض.',\n",
       "     'speaker': 'Agent',\n",
       "     'duration_to_play': '46.1',\n",
       "     'sentiment': 'Neutral.'},\n",
       "    {'dialogue': 'طب هي في عرض ليها ولا مفيش؟',\n",
       "     'speaker': 'Customer',\n",
       "     'duration_to_play': '50.0',\n",
       "     'sentiment': 'Neutral'},\n",
       "    {'dialogue': 'حضرتك؟ بتطلب الكود نجم 1003 شباك؟ هو نجم 355 شباك؟',\n",
       "     'speaker': 'Agent',\n",
       "     'duration_to_play': '52.1',\n",
       "     'sentiment': 'Neutral'},\n",
       "    {'dialogue': 'بطل بقول لحضرتك أنا عايز أتأكد من حضرتك.',\n",
       "     'speaker': 'Customer',\n",
       "     'duration_to_play': '57.',\n",
       "     'sentiment': 'Neutral.'},\n",
       "    {'dialogue': 'هو للأسف حاليا مفيش عرض على الباقة عند حضرتك.',\n",
       "     'speaker': 'Agent',\n",
       "     'duration_to_play': '60.',\n",
       "     'sentiment': 'Negative.'},\n",
       "    {'dialogue': 'ما فيش عرض، أنا حول أجدد الرقم من غير عرض.',\n",
       "     'speaker': 'Customer',\n",
       "     'duration_to_play': '63.8',\n",
       "     'sentiment': 'Negative.'},\n",
       "    {'dialogue': 'بالظبط؟',\n",
       "     'speaker': 'Agent',\n",
       "     'duration_to_play': '66.3',\n",
       "     'sentiment': 'Neutral.'},\n",
       "    {'dialogue': 'قبل ما كنت أعمل، وفي عرض.',\n",
       "     'speaker': 'Customer',\n",
       "     'duration_to_play': '67.5',\n",
       "     'sentiment': 'Neutral'},\n",
       "    {'dialogue': 'عفو.',\n",
       "     'speaker': 'Agent',\n",
       "     'duration_to_play': '69.9',\n",
       "     'sentiment': 'Neutral.'},\n",
       "    {'dialogue': 'هيكون كام؟',\n",
       "     'speaker': 'Customer',\n",
       "     'duration_to_play': '71.0399999999999',\n",
       "     'sentiment': 'Neutral'},\n",
       "    {'dialogue': 'نجمة 350 شباك.',\n",
       "     'speaker': 'Agent',\n",
       "     'duration_to_play': '72.',\n",
       "     'sentiment': 'Positive.'},\n",
       "    {'dialogue': 'من مكان.',\n",
       "     'speaker': 'Customer',\n",
       "     'duration_to_play': '74.8',\n",
       "     'sentiment': 'Neutral.'},\n",
       "    {'dialogue': '350.',\n",
       "     'speaker': 'Agent',\n",
       "     'duration_to_play': '75.8',\n",
       "     'sentiment': 'Neutral. (Note: \"350\" is not an Arabic word, it is a number.)'},\n",
       "    {'dialogue': '350 شبرمة شكرا',\n",
       "     'speaker': 'Customer',\n",
       "     'duration_to_play': '77.6',\n",
       "     'sentiment': 'Positive'},\n",
       "    {'dialogue': 'تحت أمرك حضرتك محتاج مني أي؟',\n",
       "     'speaker': 'Agent',\n",
       "     'duration_to_play': '79.5',\n",
       "     'sentiment': 'Neutral.'},\n",
       "    {'dialogue': 'شكرا.',\n",
       "     'speaker': 'Customer',\n",
       "     'duration_to_play': '82.0',\n",
       "     'sentiment': 'Positive.'},\n",
       "    {'dialogue': 'شرفتنا جدا باتصالك، وأتمنى لك.',\n",
       "     'speaker': 'Agent',\n",
       "     'duration_to_play': '82.6',\n",
       "     'sentiment': 'Positive.'}],\n",
       "   'audio_id': '0e4e59ce-d730-4849-94f2-87b46c9062a4.wav'},\n",
       "  'language': 'ar'}}"
      ]
     },
     "execution_count": 21,
     "metadata": {},
     "output_type": "execute_result"
    }
   ],
   "source": [
    "d"
   ]
  },
  {
   "cell_type": "code",
   "execution_count": 25,
   "metadata": {},
   "outputs": [],
   "source": [
    "d[\"result\"][\"topics\"] = t"
   ]
  },
  {
   "cell_type": "code",
   "execution_count": 26,
   "metadata": {},
   "outputs": [
    {
     "data": {
      "text/plain": [
       "['تجديد باقة الإنترنت 75 ', ' الباقات المتاحة ', ' العروض على الباقات.']"
      ]
     },
     "execution_count": 26,
     "metadata": {},
     "output_type": "execute_result"
    }
   ],
   "source": [
    "d[\"result\"][\"topics\"]\n"
   ]
  },
  {
   "cell_type": "code",
   "execution_count": 28,
   "metadata": {},
   "outputs": [],
   "source": [
    "with open(file= \"./data/analytics/samplecopy_2.json\", mode= \"w\") as fp:\n",
    "        json.dump(d,fp= fp, indent= 4)"
   ]
  },
  {
   "cell_type": "code",
   "execution_count": 3,
   "metadata": {},
   "outputs": [
    {
     "data": {
      "text/plain": [
       "{'transcript': [{'dialogue': 'नमस्कार।',\n",
       "   'speaker': 'Agent',\n",
       "   'duration_to_play': '4.24',\n",
       "   'locale': 'hi-IN'},\n",
       "  {'dialogue': 'सी बैंक के लोन लोन डिपार्टमेंट से मैं मनोज आपकी किस प्रकार से सहायता कर सकता हूँ?',\n",
       "   'speaker': 'Agent',\n",
       "   'duration_to_play': '5.05',\n",
       "   'locale': 'hi-IN'},\n",
       "  {'dialogue': 'येह नमस्कार मनोज मेरा नाम विक्रांत है और मेरे को व्हीकल लोन के बारे में जानकारी चाहिए थी।',\n",
       "   'speaker': 'Customer',\n",
       "   'duration_to_play': '10.76',\n",
       "   'locale': 'hi-IN'},\n",
       "  {'dialogue': 'जी बिलकुल विक्रम जी, आपको लोन के बारे में पूरी जानकारी दी जाएगी। अलोन के बारे में जानकारी देने से पहले मुझे आपसे कुछ आप चेक इन्फॉर्मेशन की आवश्यकता है। क्या मैं जान सकता हूँ आप किस प्रकार की गाड़ी खरीदना चाहते हैं?',\n",
       "   'speaker': 'Agent',\n",
       "   'duration_to_play': '20.03',\n",
       "   'locale': 'hi-IN'},\n",
       "  {'dialogue': 'हम एक कार खरीदने की सोच रहा हूँ जो की मैं लोन पर लेना चाहता हूँ तो मुझे उसके बारे में की क्या उसकी इन्ट्रेस्ट?',\n",
       "   'speaker': 'Customer',\n",
       "   'duration_to_play': '34.92',\n",
       "   'locale': 'hi-IN'},\n",
       "  {'dialogue': 'रहेंगी और क्या रिक्वायर्ड डाक्यूमेंट्स होंगे जो भी आवश्यक डॉक्यूमेंट्स है।',\n",
       "   'speaker': 'Customer',\n",
       "   'duration_to_play': '45.05',\n",
       "   'locale': 'hi-IN'},\n",
       "  {'dialogue': 'जो जिसकी जरूरत है तो उसके बारेमें मेरेको थोड़ा सा जानकारी चाहिए थी आपसे।',\n",
       "   'speaker': 'Customer',\n",
       "   'duration_to_play': '51.02',\n",
       "   'locale': 'hi-IN'},\n",
       "  {'dialogue': 'जी बिलकुल विक्रांत जी हमारे पास वीइकल लोन को लेके मल्टिपल प्लैन्स है और उसके पहले मैं आपका बजट जानना चाहूंगा और मैं जानना चाहूंगा आप किस प्रकार की कार खरीदना चाहते हैं। आप एसयूवी लेना चाहते हैं या आप हैचबैक लेना चाहते हैं या आप अन्य किसी प्रकार का कोई व्हीकल लेना चाहते हैं? क्या आप मुझे इसके बारे में जानकारी दे सकते?',\n",
       "   'speaker': 'Agent',\n",
       "   'duration_to_play': '55.79',\n",
       "   'locale': 'hi-IN'},\n",
       "  {'dialogue': 'हैं अब।',\n",
       "   'speaker': 'Customer',\n",
       "   'duration_to_play': '76.49',\n",
       "   'locale': 'hi-IN'},\n",
       "  {'dialogue': 'एक हैचबैक का खरीदने की सोच रहा हूँ और मेरा बजट से ₹10,00,000 तक का है।',\n",
       "   'speaker': 'Customer',\n",
       "   'duration_to_play': '79.83',\n",
       "   'locale': 'hi-IN'},\n",
       "  {'dialogue': 'जी बिलकुल विक्रांत जी आपने जैसे।',\n",
       "   'speaker': 'Agent',\n",
       "   'duration_to_play': '88.17',\n",
       "   'locale': 'hi-IN'},\n",
       "  {'dialogue': 'जानकारी दी। आप एक हैचबैक गाडी लेना चाहते हैं और आपका बजट आठ से ₹10,00,000 का है जी बिलकुल।',\n",
       "   'speaker': 'Agent',\n",
       "   'duration_to_play': '90.05',\n",
       "   'locale': 'hi-IN'},\n",
       "  {'dialogue': 'इस विषय में आपकी पूरी सहायता की जाएगी। देखिये जैसा की आप जानना चाह रहे है की।',\n",
       "   'speaker': 'Agent',\n",
       "   'duration_to_play': '95.67',\n",
       "   'locale': 'hi-IN'},\n",
       "  {'dialogue': 'आप लोन की इंट्रेस्ट रेट और रिक्वायर्ड डॉक्यूमेंट्स और कोर्सेस के बारे में जानना चाहते हैं तो मैं आपको बताना चाहूंगा की अभी जो हम।',\n",
       "   'speaker': 'Agent',\n",
       "   'duration_to_play': '100.05',\n",
       "   'locale': 'hi-IN'},\n",
       "  {'dialogue': 'इन्ट्रेस्ट रेट है वो आपको 11.25% की दर पर मिलेगा जो आपका इसमें हमारी तरफ से कंपनी की तरफ से ऑफर दिया जा रहा है और आपको रेडिओ से इंट्रेस्ट रेट दिए जा रहे हैं। ऑफर के तहत प्लस आपको बताना चाहूंगा की जो मिनिमम इन आपका लोन की जो ड्रम होती है वो 3 साल की होती है और मैक्सिमम आपके लोन के टर्म 6 साल की होती है। आप जब लोन लें।',\n",
       "   'speaker': 'Agent',\n",
       "   'duration_to_play': '110.12',\n",
       "   'locale': 'hi-IN'},\n",
       "  {'dialogue': 'तो आपको 10% अपफ्रंट पेमेंट करनी पड़ेगी और 90% तक आप।',\n",
       "   'speaker': 'Agent',\n",
       "   'duration_to_play': '135.26',\n",
       "   'locale': 'hi-IN'},\n",
       "  {'dialogue': 'लोन अप्रूव किया जा सकता है आपका लोन आप 3 साल, 4 साल, 5 साल या 6 साल अपनी सुविधा के अनुसार आप अपनी उस में टर्म।',\n",
       "   'speaker': 'Agent',\n",
       "   'duration_to_play': '140.23',\n",
       "   'locale': 'hi-IN'},\n",
       "  {'dialogue': 'सिलैक्ट कर सकते हैं। जितना भी आपका लोन अमाउंट अप्रूव़ होगा उसके ऊपर आपका जो भी इन्ट्रेस्ट है उसके अकॉर्डिंग्ली आप की एक मंथ्ली ईएमआइ सेटअप की जाएगी। आप।',\n",
       "   'speaker': 'Agent',\n",
       "   'duration_to_play': '150.05',\n",
       "   'locale': 'hi-IN'},\n",
       "  {'dialogue': 'उचित डेट बता सकते हैं। मंथ की जो भी डेट है आपको प्रिफर्ड है और उस डेट पे आपके अकाउंट से ईएमआई का बैन स्टार्ट किया जाएगा।',\n",
       "   'speaker': 'Agent',\n",
       "   'duration_to_play': '160.18',\n",
       "   'locale': 'hi-IN'},\n",
       "  {'dialogue': 'आपने बोला 11.55 जियो।',\n",
       "   'speaker': 'Customer',\n",
       "   'duration_to_play': '170.7',\n",
       "   'locale': 'hi-IN'},\n",
       "  {'dialogue': '11.5।',\n",
       "   'speaker': 'Agent',\n",
       "   'duration_to_play': '174.57999999999998',\n",
       "   'locale': 'hi-IN'},\n",
       "  {'dialogue': '11.25।',\n",
       "   'speaker': 'Agent',\n",
       "   'duration_to_play': '176.48',\n",
       "   'locale': 'hi-IN'},\n",
       "  {'dialogue': 'परसेंट?',\n",
       "   'speaker': 'Customer',\n",
       "   'duration_to_play': '177.98',\n",
       "   'locale': 'hi-IN'},\n",
       "  {'dialogue': 'वैन 2411.25%।',\n",
       "   'speaker': 'Customer',\n",
       "   'duration_to_play': '179.05',\n",
       "   'locale': 'hi-IN'},\n",
       "  {'dialogue': 'तो ये ये जो इन्ट्रेस्ट रहते हैं जहाँ तक मेरी जानकारी है जो मैंने बता किया है वो आपके सिबिल स्कोर।',\n",
       "   'speaker': 'Customer',\n",
       "   'duration_to_play': '183.02',\n",
       "   'locale': 'hi-IN'},\n",
       "  {'dialogue': 'डिपेंड करता है राइट तो।',\n",
       "   'speaker': 'Customer',\n",
       "   'duration_to_play': '190.05',\n",
       "   'locale': 'hi-IN'},\n",
       "  {'dialogue': 'जी।',\n",
       "   'speaker': 'Agent',\n",
       "   'duration_to_play': '191.75',\n",
       "   'locale': 'hi-IN'},\n",
       "  {'dialogue': 'मेरे सिबिल स्कोर ये तो आपने।',\n",
       "   'speaker': 'Customer',\n",
       "   'duration_to_play': '192.54',\n",
       "   'locale': 'hi-IN'},\n",
       "  {'dialogue': 'तो जनरल मेरे ख्याल से एक वो बता दिए इंट्रेस्ट रेट जो की मुझे कुछ ज्यादा लग रही है, पर आप मेरे सिबिल स्कोर के हिसाब से आप मुझे बता पाएंगे की क्या इंट्रेस्ट रेट लगेगा मेरे लिए?',\n",
       "   'speaker': 'Customer',\n",
       "   'duration_to_play': '195.05',\n",
       "   'locale': 'hi-IN'},\n",
       "  {'dialogue': 'जी बिलकुल, आपको मैं बताना चाहूंगा यदि आपका हमारे ए बी सी बैंक में अकाउंट।',\n",
       "   'speaker': 'Agent',\n",
       "   'duration_to_play': '207.62',\n",
       "   'locale': 'hi-IN'},\n",
       "  {'dialogue': 'ओके और आपका सिबिल स्कोर 800।',\n",
       "   'speaker': 'Agent',\n",
       "   'duration_to_play': '213.06',\n",
       "   'locale': 'hi-IN'},\n",
       "  {'dialogue': 'ऊपर है तो आपको 11% पे भी आपको लोन अप्रूव किया जा सकता है। जी तो इसके लिए हमें आपको कुछ डॉक्यूमेंट शेयर करने होंगे। आप जब लोन के लिए अप्लाई करेंगे तो आपको ऐप्लिकेशन फॉर्म के साथ आपको आपने आधार कार्ड की कॉपी।',\n",
       "   'speaker': 'Agent',\n",
       "   'duration_to_play': '215.07',\n",
       "   'locale': 'hi-IN'},\n",
       "  {'dialogue': 'आपको अपने पैन कार्ड की कॉपी और आपको अपना फॉर्म 16 देना पड़ेगा। पिछले फाइनैंशल।',\n",
       "   'speaker': 'Agent',\n",
       "   'duration_to_play': '230.06',\n",
       "   'locale': 'hi-IN'},\n",
       "  {'dialogue': 'प्लस आपका जो सिबिल स्कोर है वो हम अपनी तरफ से आपके पैन कार्ड के बेस।',\n",
       "   'speaker': 'Agent',\n",
       "   'duration_to_play': '235.82999999999998',\n",
       "   'locale': 'hi-IN'},\n",
       "  {'dialogue': 'निकल लेंगे। यदि आपका सिबिल स्कोर 800 से ऊपर है और आप हमारे बैंक केक।',\n",
       "   'speaker': 'Agent',\n",
       "   'duration_to_play': '240.11',\n",
       "   'locale': 'hi-IN'},\n",
       "  {'dialogue': 'तो आपको 11% के रेट पे लोन अप्रूव किया जाएगा।',\n",
       "   'speaker': 'Agent',\n",
       "   'duration_to_play': '245.64',\n",
       "   'locale': 'hi-IN'},\n",
       "  {'dialogue': 'अच्छा, पर आप अभी नहीं बता पाएंगे मेरे को राइट की मेरे से भी स्कोर कितना है और उसपे क्या रेट है ये डॉक्यूमेंट देने के बाद ही आप मुझे।',\n",
       "   'speaker': 'Customer',\n",
       "   'duration_to_play': '250.04',\n",
       "   'locale': 'hi-IN'},\n",
       "  {'dialogue': 'बता जी बिलकुल क्योंकि आपको जब पैन कार्ड का नंबर आप शेयर करेंगे हमारे साथ तब आपको ये पूरी जानकारी दे पाऊंगा।',\n",
       "   'speaker': 'Agent',\n",
       "   'duration_to_play': '258.66',\n",
       "   'locale': 'hi-IN'},\n",
       "  {'dialogue': 'ठीक है, ठीक है, मैं आपसे एक बार जो भी मेरे पास की।',\n",
       "   'speaker': 'Customer',\n",
       "   'duration_to_play': '266.38',\n",
       "   'locale': 'hi-IN'},\n",
       "  {'dialogue': 'ब्रांच से बैंक की ये किसी बैंक की उसको मैं विजिट करता हूँ जहाँ मेरा मेरा अकाउंट भी ओपन हैं और मैं वहाँ से जो भी डॉक्यूमेंट है वो सबमिट करता हूँ और फिर मैं इसको प्रोसेसर करता हूँ।',\n",
       "   'speaker': 'Customer',\n",
       "   'duration_to_play': '270.2',\n",
       "   'locale': 'hi-IN'},\n",
       "  {'dialogue': 'जी, बिल्कुल।',\n",
       "   'speaker': 'Agent',\n",
       "   'duration_to_play': '283.96',\n",
       "   'locale': 'hi-IN'},\n",
       "  {'dialogue': 'ठीक है आई थिंक ही मतलब मैं सोचता हूँ की मेरे को जो जानकारी चाहिए थी वो मिल गयी है।',\n",
       "   'speaker': 'Customer',\n",
       "   'duration_to_play': '285.06',\n",
       "   'locale': 'hi-IN'},\n",
       "  {'dialogue': 'तो धन्यवाद धन्यवाद मनोज।',\n",
       "   'speaker': 'Customer',\n",
       "   'duration_to_play': '290.83',\n",
       "   'locale': 'hi-IN'},\n",
       "  {'dialogue': 'की आपने मुझे ये जानकारी प्रोवाइड कराई जी धन्यवाद बहुत बहुत धन्यवाद आपका।',\n",
       "   'speaker': 'Customer',\n",
       "   'duration_to_play': '295.12',\n",
       "   'locale': 'hi-IN'},\n",
       "  {'dialogue': 'जी विक्रम जी, क्या आप कोई और जानकारी प्राप्त करना चाहेंगे?',\n",
       "   'speaker': 'Agent',\n",
       "   'duration_to_play': '301',\n",
       "   'locale': 'hi-IN'},\n",
       "  {'dialogue': 'जी विकास जी, एलडीसी लोन डिपार्टमेंट में कॉल करने के लिए धन्यवाद। आपका दिन शुभ रहे।',\n",
       "   'speaker': 'Agent',\n",
       "   'duration_to_play': '306.18',\n",
       "   'locale': 'hi-IN'},\n",
       "  {'dialogue': 'धन्यवाद मैडम जी आपका भी।',\n",
       "   'speaker': 'Customer',\n",
       "   'duration_to_play': '311.23',\n",
       "   'locale': 'hi-IN'}],\n",
       " 'audio_id': 'aa9714d6-ecc6-432e-8787-e23f580f5c8c.wav'}"
      ]
     },
     "execution_count": 3,
     "metadata": {},
     "output_type": "execute_result"
    }
   ],
   "source": [
    "import json\n",
    "with open(\"./data/transcript/transcript_output.json\") as fp:\n",
    "    d1= json.load(fp)\n",
    "d1\n"
   ]
  },
  {
   "cell_type": "code",
   "execution_count": 17,
   "metadata": {},
   "outputs": [
    {
     "data": {
      "text/plain": [
       "'مرحبًا، كيف حالك'"
      ]
     },
     "execution_count": 17,
     "metadata": {},
     "output_type": "execute_result"
    }
   ],
   "source": [
    "ar_text"
   ]
  },
  {
   "cell_type": "code",
   "execution_count": 18,
   "metadata": {},
   "outputs": [
    {
     "data": {
      "text/plain": [
       "'مرحبًا، كيف حالك'"
      ]
     },
     "execution_count": 18,
     "metadata": {},
     "output_type": "execute_result"
    }
   ],
   "source": [
    "ar_text.lower()"
   ]
  },
  {
   "cell_type": "code",
   "execution_count": 19,
   "metadata": {},
   "outputs": [
    {
     "name": "stdout",
     "output_type": "stream",
     "text": [
      "नमस्कार।\n"
     ]
    }
   ],
   "source": [
    "s1 = \"\\u0928\\u092e\\u0938\\u094d\\u0915\\u093e\\u0930\\u0964\"\n",
    "print(s1)"
   ]
  },
  {
   "cell_type": "code",
   "execution_count": 20,
   "metadata": {},
   "outputs": [
    {
     "data": {
      "text/plain": [
       "'सी बैंक के लोन लोन डिपार्टमेंट से मैं मनोज आपकी किस प्रकार से सहायता कर सकता हूँ?'"
      ]
     },
     "execution_count": 20,
     "metadata": {},
     "output_type": "execute_result"
    }
   ],
   "source": [
    "s2 = \"\\u0938\\u0940 \\u092c\\u0948\\u0902\\u0915 \\u0915\\u0947 \\u0932\\u094b\\u0928 \\u0932\\u094b\\u0928 \\u0921\\u093f\\u092a\\u093e\\u0930\\u094d\\u091f\\u092e\\u0947\\u0902\\u091f \\u0938\\u0947 \\u092e\\u0948\\u0902 \\u092e\\u0928\\u094b\\u091c \\u0906\\u092a\\u0915\\u0940 \\u0915\\u093f\\u0938 \\u092a\\u094d\\u0930\\u0915\\u093e\\u0930 \\u0938\\u0947 \\u0938\\u0939\\u093e\\u092f\\u0924\\u093e \\u0915\\u0930 \\u0938\\u0915\\u0924\\u093e \\u0939\\u0942\\u0901?\"\n",
    "s2"
   ]
  },
  {
   "cell_type": "code",
   "execution_count": 21,
   "metadata": {},
   "outputs": [
    {
     "data": {
      "text/plain": [
       "3"
      ]
     },
     "execution_count": 21,
     "metadata": {},
     "output_type": "execute_result"
    }
   ],
   "source": [
    "a = [[],[],[]]\n",
    "len(a)"
   ]
  },
  {
   "cell_type": "code",
   "execution_count": 4,
   "metadata": {},
   "outputs": [
    {
     "data": {
      "text/plain": [
       "['audio_01']"
      ]
     },
     "execution_count": 4,
     "metadata": {},
     "output_type": "execute_result"
    }
   ],
   "source": [
    "\"audio_01.wav\".split(\".\")[:-1]"
   ]
  },
  {
   "cell_type": "code",
   "execution_count": 25,
   "metadata": {},
   "outputs": [
    {
     "name": "stdout",
     "output_type": "stream",
     "text": [
      "audio file : Call 1.wav\n",
      "sample rate  16000\n",
      "subtype : PCM_16\n",
      "channels : 1\n",
      "\n",
      "audio file : Call 2.wav\n",
      "sample rate  16000\n",
      "subtype : PCM_16\n",
      "channels : 1\n",
      "\n"
     ]
    }
   ],
   "source": [
    "from utils import *\n",
    "\n",
    "path = LocalConfig().PROCESSED_DATA_FOLDER\n",
    "for audio_file in os.listdir(path):\n",
    "    # checks\n",
    "    print(f\"audio file : {audio_file}\")\n",
    "    extension = audio_file.split(\".\")[-1]\n",
    "    filename = audio_file.split(\".\")[:-1]\n",
    "\n",
    "    path1 = path + \"/\" + audio_file\n",
    "    attrs = get_audio_attributes(path= path1)\n",
    "    print(f\"sample rate  {attrs.samplerate}\")\n",
    "    print(f\"subtype : {attrs.subtype}\")\n",
    "    print(f\"channels : {attrs.channels}\")\n",
    "    print()"
   ]
  },
  {
   "cell_type": "code",
   "execution_count": 4,
   "metadata": {},
   "outputs": [
    {
     "data": {
      "text/plain": [
       "{'WAV': 'PCM_16',\n",
       " 'AIFF': 'PCM_16',\n",
       " 'AU': 'PCM_16',\n",
       " 'PAF': 'PCM_16',\n",
       " 'SVX': 'PCM_16',\n",
       " 'NIST': 'PCM_16',\n",
       " 'VOC': 'PCM_16',\n",
       " 'IRCAM': 'PCM_16',\n",
       " 'W64': 'PCM_16',\n",
       " 'MAT4': 'DOUBLE',\n",
       " 'MAT5': 'DOUBLE',\n",
       " 'PVF': 'PCM_16',\n",
       " 'XI': 'DPCM_16',\n",
       " 'HTK': 'PCM_16',\n",
       " 'SDS': 'PCM_16',\n",
       " 'AVR': 'PCM_16',\n",
       " 'WAVEX': 'PCM_16',\n",
       " 'SD2': 'PCM_16',\n",
       " 'FLAC': 'PCM_16',\n",
       " 'CAF': 'PCM_16',\n",
       " 'WVE': 'ALAW',\n",
       " 'OGG': 'VORBIS',\n",
       " 'MPC2K': 'PCM_16',\n",
       " 'RF64': 'PCM_16',\n",
       " 'MP3': 'MPEG_LAYER_III'}"
      ]
     },
     "execution_count": 4,
     "metadata": {},
     "output_type": "execute_result"
    }
   ],
   "source": [
    "import soundfile\n",
    "\n",
    "soundfile._default_subtypes"
   ]
  },
  {
   "cell_type": "code",
   "execution_count": 10,
   "metadata": {},
   "outputs": [
    {
     "data": {
      "text/plain": [
       "'c48d9c40-d007-11ee-a6f1-8c16454a336a'"
      ]
     },
     "execution_count": 10,
     "metadata": {},
     "output_type": "execute_result"
    }
   ],
   "source": [
    "import uuid\n",
    "\n",
    "str(uuid.uuid1())"
   ]
  },
  {
   "cell_type": "code",
   "execution_count": 1,
   "metadata": {},
   "outputs": [
    {
     "data": {
      "text/plain": [
       "'Call_1.wav'"
      ]
     },
     "execution_count": 1,
     "metadata": {},
     "output_type": "execute_result"
    }
   ],
   "source": [
    "next_call_number = 1\n",
    "'Call_{}'.format(next_call_number) + \".wav\""
   ]
  },
  {
   "cell_type": "code",
   "execution_count": 10,
   "metadata": {},
   "outputs": [],
   "source": [
    "import json\n",
    "# Use merged_output.json & audios_info/mappings.json\n",
    "path1 = \"data/audio_analytics/sample_audio/merged_output.json\"\n",
    "with open(path1) as fh:\n",
    "    data1 = json.load(fh)"
   ]
  },
  {
   "cell_type": "code",
   "execution_count": 14,
   "metadata": {},
   "outputs": [
    {
     "data": {
      "text/plain": [
       "[{'dialogue': 'धन्यवाद मैडम जी आपका भी।',\n",
       "  'speaker': 'Customer',\n",
       "  'duration_to_play': '311.23',\n",
       "  'locale': 'hi-IN',\n",
       "  'sentiment': 'negative'},\n",
       " {'dialogue': 'जी विकास जी, एलडीसी लोन डिपार्टमेंट में कॉल करने के लिए धन्यवाद। आपका दिन शुभ रहे।',\n",
       "  'speaker': 'Agent',\n",
       "  'duration_to_play': '306.18',\n",
       "  'locale': 'hi-IN',\n",
       "  'sentiment': 'neutral'},\n",
       " {'dialogue': 'जी विक्रम जी, क्या आप कोई और जानकारी प्राप्त करना चाहेंगे?',\n",
       "  'speaker': 'Agent',\n",
       "  'duration_to_play': '301',\n",
       "  'locale': 'hi-IN',\n",
       "  'sentiment': 'negative'},\n",
       " {'dialogue': 'की आपने मुझे ये जानकारी प्रोवाइड कराई जी धन्यवाद बहुत बहुत धन्यवाद आपका।',\n",
       "  'speaker': 'Customer',\n",
       "  'duration_to_play': '295.12',\n",
       "  'locale': 'hi-IN',\n",
       "  'sentiment': 'neutral'},\n",
       " {'dialogue': 'तो धन्यवाद धन्यवाद मनोज।',\n",
       "  'speaker': 'Customer',\n",
       "  'duration_to_play': '290.83',\n",
       "  'locale': 'hi-IN',\n",
       "  'sentiment': 'neutral'},\n",
       " {'dialogue': 'ठीक है आई थिंक ही मतलब मैं सोचता हूँ की मेरे को जो जानकारी चाहिए थी वो मिल गयी है।',\n",
       "  'speaker': 'Customer',\n",
       "  'duration_to_play': '285.06',\n",
       "  'locale': 'hi-IN',\n",
       "  'sentiment': 'negative'},\n",
       " {'dialogue': 'जी, बिल्कुल।',\n",
       "  'speaker': 'Agent',\n",
       "  'duration_to_play': '283.96',\n",
       "  'locale': 'hi-IN',\n",
       "  'sentiment': 'positive'},\n",
       " {'dialogue': 'ब्रांच से बैंक की ये किसी बैंक की उसको मैं विजिट करता हूँ जहाँ मेरा मेरा अकाउंट भी ओपन हैं और मैं वहाँ से जो भी डॉक्यूमेंट है वो सबमिट करता हूँ और फिर मैं इसको प्रोसेसर करता हूँ।',\n",
       "  'speaker': 'Customer',\n",
       "  'duration_to_play': '270.2',\n",
       "  'locale': 'hi-IN',\n",
       "  'sentiment': 'positive'},\n",
       " {'dialogue': 'ठीक है, ठीक है, मैं आपसे एक बार जो भी मेरे पास की।',\n",
       "  'speaker': 'Customer',\n",
       "  'duration_to_play': '266.38',\n",
       "  'locale': 'hi-IN',\n",
       "  'sentiment': 'neutral'},\n",
       " {'dialogue': 'बता जी बिलकुल क्योंकि आपको जब पैन कार्ड का नंबर आप शेयर करेंगे हमारे साथ तब आपको ये पूरी जानकारी दे पाऊंगा।',\n",
       "  'speaker': 'Agent',\n",
       "  'duration_to_play': '258.66',\n",
       "  'locale': 'hi-IN',\n",
       "  'sentiment': 'neutral'},\n",
       " {'dialogue': 'अच्छा, पर आप अभी नहीं बता पाएंगे मेरे को राइट की मेरे से भी स्कोर कितना है और उसपे क्या रेट है ये डॉक्यूमेंट देने के बाद ही आप मुझे।',\n",
       "  'speaker': 'Customer',\n",
       "  'duration_to_play': '250.04',\n",
       "  'locale': 'hi-IN',\n",
       "  'sentiment': 'negative'},\n",
       " {'dialogue': 'तो आपको 11% के रेट पे लोन अप्रूव किया जाएगा।',\n",
       "  'speaker': 'Agent',\n",
       "  'duration_to_play': '245.64',\n",
       "  'locale': 'hi-IN',\n",
       "  'sentiment': 'positive'},\n",
       " {'dialogue': 'निकल लेंगे। यदि आपका सिबिल स्कोर 800 से ऊपर है और आप हमारे बैंक केक।',\n",
       "  'speaker': 'Agent',\n",
       "  'duration_to_play': '240.11',\n",
       "  'locale': 'hi-IN',\n",
       "  'sentiment': 'positive'},\n",
       " {'dialogue': 'प्लस आपका जो सिबिल स्कोर है वो हम अपनी तरफ से आपके पैन कार्ड के बेस।',\n",
       "  'speaker': 'Agent',\n",
       "  'duration_to_play': '235.82999999999998',\n",
       "  'locale': 'hi-IN',\n",
       "  'sentiment': 'negative'},\n",
       " {'dialogue': 'आपको अपने पैन कार्ड की कॉपी और आपको अपना फॉर्म 16 देना पड़ेगा। पिछले फाइनैंशल।',\n",
       "  'speaker': 'Agent',\n",
       "  'duration_to_play': '230.06',\n",
       "  'locale': 'hi-IN',\n",
       "  'sentiment': 'negative'},\n",
       " {'dialogue': 'ऊपर है तो आपको 11% पे भी आपको लोन अप्रूव किया जा सकता है। जी तो इसके लिए हमें आपको कुछ डॉक्यूमेंट शेयर करने होंगे। आप जब लोन के लिए अप्लाई करेंगे तो आपको ऐप्लिकेशन फॉर्म के साथ आपको आपने आधार कार्ड की कॉपी।',\n",
       "  'speaker': 'Agent',\n",
       "  'duration_to_play': '215.07',\n",
       "  'locale': 'hi-IN',\n",
       "  'sentiment': 'neutral'},\n",
       " {'dialogue': 'ओके और आपका सिबिल स्कोर 800।',\n",
       "  'speaker': 'Agent',\n",
       "  'duration_to_play': '213.06',\n",
       "  'locale': 'hi-IN',\n",
       "  'sentiment': 'neutral'},\n",
       " {'dialogue': 'जी बिलकुल, आपको मैं बताना चाहूंगा यदि आपका हमारे ए बी सी बैंक में अकाउंट।',\n",
       "  'speaker': 'Agent',\n",
       "  'duration_to_play': '207.62',\n",
       "  'locale': 'hi-IN',\n",
       "  'sentiment': 'neutral'},\n",
       " {'dialogue': 'तो जनरल मेरे ख्याल से एक वो बता दिए इंट्रेस्ट रेट जो की मुझे कुछ ज्यादा लग रही है, पर आप मेरे सिबिल स्कोर के हिसाब से आप मुझे बता पाएंगे की क्या इंट्रेस्ट रेट लगेगा मेरे लिए?',\n",
       "  'speaker': 'Customer',\n",
       "  'duration_to_play': '195.05',\n",
       "  'locale': 'hi-IN',\n",
       "  'sentiment': 'negative'},\n",
       " {'dialogue': 'मेरे सिबिल स्कोर ये तो आपने।',\n",
       "  'speaker': 'Customer',\n",
       "  'duration_to_play': '192.54',\n",
       "  'locale': 'hi-IN',\n",
       "  'sentiment': 'negative'},\n",
       " {'dialogue': 'जी।',\n",
       "  'speaker': 'Agent',\n",
       "  'duration_to_play': '191.75',\n",
       "  'locale': 'hi-IN',\n",
       "  'sentiment': 'negative'},\n",
       " {'dialogue': 'डिपेंड करता है राइट तो।',\n",
       "  'speaker': 'Customer',\n",
       "  'duration_to_play': '190.05',\n",
       "  'locale': 'hi-IN',\n",
       "  'sentiment': 'negative'},\n",
       " {'dialogue': 'तो ये ये जो इन्ट्रेस्ट रहते हैं जहाँ तक मेरी जानकारी है जो मैंने बता किया है वो आपके सिबिल स्कोर।',\n",
       "  'speaker': 'Customer',\n",
       "  'duration_to_play': '183.02',\n",
       "  'locale': 'hi-IN',\n",
       "  'sentiment': 'neutral'},\n",
       " {'dialogue': 'वैन 2411.25%।',\n",
       "  'speaker': 'Customer',\n",
       "  'duration_to_play': '179.05',\n",
       "  'locale': 'hi-IN',\n",
       "  'sentiment': 'negative'},\n",
       " {'dialogue': 'परसेंट?',\n",
       "  'speaker': 'Customer',\n",
       "  'duration_to_play': '177.98',\n",
       "  'locale': 'hi-IN',\n",
       "  'sentiment': 'positive'},\n",
       " {'dialogue': '11.25।',\n",
       "  'speaker': 'Agent',\n",
       "  'duration_to_play': '176.48',\n",
       "  'locale': 'hi-IN',\n",
       "  'sentiment': 'negative'},\n",
       " {'dialogue': '11.5।',\n",
       "  'speaker': 'Agent',\n",
       "  'duration_to_play': '174.57999999999998',\n",
       "  'locale': 'hi-IN',\n",
       "  'sentiment': 'negative'},\n",
       " {'dialogue': 'आपने बोला 11.55 जियो।',\n",
       "  'speaker': 'Customer',\n",
       "  'duration_to_play': '170.7',\n",
       "  'locale': 'hi-IN',\n",
       "  'sentiment': 'neutral'},\n",
       " {'dialogue': 'उचित डेट बता सकते हैं। मंथ की जो भी डेट है आपको प्रिफर्ड है और उस डेट पे आपके अकाउंट से ईएमआई का बैन स्टार्ट किया जाएगा।',\n",
       "  'speaker': 'Agent',\n",
       "  'duration_to_play': '160.18',\n",
       "  'locale': 'hi-IN',\n",
       "  'sentiment': 'positive'},\n",
       " {'dialogue': 'सिलैक्ट कर सकते हैं। जितना भी आपका लोन अमाउंट अप्रूव़ होगा उसके ऊपर आपका जो भी इन्ट्रेस्ट है उसके अकॉर्डिंग्ली आप की एक मंथ्ली ईएमआइ सेटअप की जाएगी। आप।',\n",
       "  'speaker': 'Agent',\n",
       "  'duration_to_play': '150.05',\n",
       "  'locale': 'hi-IN',\n",
       "  'sentiment': 'neutral'},\n",
       " {'dialogue': 'लोन अप्रूव किया जा सकता है आपका लोन आप 3 साल, 4 साल, 5 साल या 6 साल अपनी सुविधा के अनुसार आप अपनी उस में टर्म।',\n",
       "  'speaker': 'Agent',\n",
       "  'duration_to_play': '140.23',\n",
       "  'locale': 'hi-IN',\n",
       "  'sentiment': 'negative'},\n",
       " {'dialogue': 'तो आपको 10% अपफ्रंट पेमेंट करनी पड़ेगी और 90% तक आप।',\n",
       "  'speaker': 'Agent',\n",
       "  'duration_to_play': '135.26',\n",
       "  'locale': 'hi-IN',\n",
       "  'sentiment': 'positive'},\n",
       " {'dialogue': 'इन्ट्रेस्ट रेट है वो आपको 11.25% की दर पर मिलेगा जो आपका इसमें हमारी तरफ से कंपनी की तरफ से ऑफर दिया जा रहा है और आपको रेडिओ से इंट्रेस्ट रेट दिए जा रहे हैं। ऑफर के तहत प्लस आपको बताना चाहूंगा की जो मिनिमम इन आपका लोन की जो ड्रम होती है वो 3 साल की होती है और मैक्सिमम आपके लोन के टर्म 6 साल की होती है। आप जब लोन लें।',\n",
       "  'speaker': 'Agent',\n",
       "  'duration_to_play': '110.12',\n",
       "  'locale': 'hi-IN',\n",
       "  'sentiment': 'positive'},\n",
       " {'dialogue': 'आप लोन की इंट्रेस्ट रेट और रिक्वायर्ड डॉक्यूमेंट्स और कोर्सेस के बारे में जानना चाहते हैं तो मैं आपको बताना चाहूंगा की अभी जो हम।',\n",
       "  'speaker': 'Agent',\n",
       "  'duration_to_play': '100.05',\n",
       "  'locale': 'hi-IN',\n",
       "  'sentiment': 'negative'},\n",
       " {'dialogue': 'इस विषय में आपकी पूरी सहायता की जाएगी। देखिये जैसा की आप जानना चाह रहे है की।',\n",
       "  'speaker': 'Agent',\n",
       "  'duration_to_play': '95.67',\n",
       "  'locale': 'hi-IN',\n",
       "  'sentiment': 'negative'},\n",
       " {'dialogue': 'जानकारी दी। आप एक हैचबैक गाडी लेना चाहते हैं और आपका बजट आठ से ₹10,00,000 का है जी बिलकुल।',\n",
       "  'speaker': 'Agent',\n",
       "  'duration_to_play': '90.05',\n",
       "  'locale': 'hi-IN',\n",
       "  'sentiment': 'negative'},\n",
       " {'dialogue': 'जी बिलकुल विक्रांत जी आपने जैसे।',\n",
       "  'speaker': 'Agent',\n",
       "  'duration_to_play': '88.17',\n",
       "  'locale': 'hi-IN',\n",
       "  'sentiment': 'neutral'},\n",
       " {'dialogue': 'एक हैचबैक का खरीदने की सोच रहा हूँ और मेरा बजट से ₹10,00,000 तक का है।',\n",
       "  'speaker': 'Customer',\n",
       "  'duration_to_play': '79.83',\n",
       "  'locale': 'hi-IN',\n",
       "  'sentiment': 'positive'},\n",
       " {'dialogue': 'हैं अब।',\n",
       "  'speaker': 'Customer',\n",
       "  'duration_to_play': '76.49',\n",
       "  'locale': 'hi-IN',\n",
       "  'sentiment': 'positive'},\n",
       " {'dialogue': 'जी बिलकुल विक्रांत जी हमारे पास वीइकल लोन को लेके मल्टिपल प्लैन्स है और उसके पहले मैं आपका बजट जानना चाहूंगा और मैं जानना चाहूंगा आप किस प्रकार की कार खरीदना चाहते हैं। आप एसयूवी लेना चाहते हैं या आप हैचबैक लेना चाहते हैं या आप अन्य किसी प्रकार का कोई व्हीकल लेना चाहते हैं? क्या आप मुझे इसके बारे में जानकारी दे सकते?',\n",
       "  'speaker': 'Agent',\n",
       "  'duration_to_play': '55.79',\n",
       "  'locale': 'hi-IN',\n",
       "  'sentiment': 'neutral'},\n",
       " {'dialogue': 'जो जिसकी जरूरत है तो उसके बारेमें मेरेको थोड़ा सा जानकारी चाहिए थी आपसे।',\n",
       "  'speaker': 'Customer',\n",
       "  'duration_to_play': '51.02',\n",
       "  'locale': 'hi-IN',\n",
       "  'sentiment': 'negative'},\n",
       " {'dialogue': 'रहेंगी और क्या रिक्वायर्ड डाक्यूमेंट्स होंगे जो भी आवश्यक डॉक्यूमेंट्स है।',\n",
       "  'speaker': 'Customer',\n",
       "  'duration_to_play': '45.05',\n",
       "  'locale': 'hi-IN',\n",
       "  'sentiment': 'negative'},\n",
       " {'dialogue': 'हम एक कार खरीदने की सोच रहा हूँ जो की मैं लोन पर लेना चाहता हूँ तो मुझे उसके बारे में की क्या उसकी इन्ट्रेस्ट?',\n",
       "  'speaker': 'Customer',\n",
       "  'duration_to_play': '34.92',\n",
       "  'locale': 'hi-IN',\n",
       "  'sentiment': 'neutral'},\n",
       " {'dialogue': 'जी बिलकुल विक्रम जी, आपको लोन के बारे में पूरी जानकारी दी जाएगी। अलोन के बारे में जानकारी देने से पहले मुझे आपसे कुछ आप चेक इन्फॉर्मेशन की आवश्यकता है। क्या मैं जान सकता हूँ आप किस प्रकार की गाड़ी खरीदना चाहते हैं?',\n",
       "  'speaker': 'Agent',\n",
       "  'duration_to_play': '20.03',\n",
       "  'locale': 'hi-IN',\n",
       "  'sentiment': 'negative'},\n",
       " {'dialogue': 'येह नमस्कार मनोज मेरा नाम विक्रांत है और मेरे को व्हीकल लोन के बारे में जानकारी चाहिए थी।',\n",
       "  'speaker': 'Customer',\n",
       "  'duration_to_play': '10.76',\n",
       "  'locale': 'hi-IN',\n",
       "  'sentiment': 'negative'},\n",
       " {'dialogue': 'सी बैंक के लोन लोन डिपार्टमेंट से मैं मनोज आपकी किस प्रकार से सहायता कर सकता हूँ?',\n",
       "  'speaker': 'Agent',\n",
       "  'duration_to_play': '5.05',\n",
       "  'locale': 'hi-IN',\n",
       "  'sentiment': 'negative'},\n",
       " {'dialogue': 'नमस्कार।',\n",
       "  'speaker': 'Agent',\n",
       "  'duration_to_play': '4.24',\n",
       "  'locale': 'hi-IN',\n",
       "  'sentiment': 'positive'}]"
      ]
     },
     "execution_count": 14,
     "metadata": {},
     "output_type": "execute_result"
    }
   ],
   "source": [
    "transcriptions = data1[\"result\"][\"transcripts\"][\"transcript\"]\n",
    "transcriptions[::-1]"
   ]
  },
  {
   "cell_type": "code",
   "execution_count": 15,
   "metadata": {},
   "outputs": [],
   "source": [
    "import pandas as pd\n",
    "import json\n",
    "with open(\"data/audios_info/mappings.json\") as fh:\n",
    "    data = json.load(fh)\n"
   ]
  },
  {
   "cell_type": "code",
   "execution_count": 19,
   "metadata": {},
   "outputs": [
    {
     "data": {
      "text/html": [
       "<div>\n",
       "<style scoped>\n",
       "    .dataframe tbody tr th:only-of-type {\n",
       "        vertical-align: middle;\n",
       "    }\n",
       "\n",
       "    .dataframe tbody tr th {\n",
       "        vertical-align: top;\n",
       "    }\n",
       "\n",
       "    .dataframe thead th {\n",
       "        text-align: right;\n",
       "    }\n",
       "</style>\n",
       "<table border=\"1\" class=\"dataframe\">\n",
       "  <thead>\n",
       "    <tr style=\"text-align: right;\">\n",
       "      <th></th>\n",
       "      <th>Call 1.wav</th>\n",
       "      <th>Call 2.wav</th>\n",
       "    </tr>\n",
       "  </thead>\n",
       "  <tbody>\n",
       "    <tr>\n",
       "      <th>id</th>\n",
       "      <td>Call_1.wav</td>\n",
       "      <td>Call_2.wav</td>\n",
       "    </tr>\n",
       "    <tr>\n",
       "      <th>audio_duration</th>\n",
       "      <td>82</td>\n",
       "      <td>107</td>\n",
       "    </tr>\n",
       "    <tr>\n",
       "      <th>audio_file_size</th>\n",
       "      <td>2563.917969</td>\n",
       "      <td>2563.917969</td>\n",
       "    </tr>\n",
       "    <tr>\n",
       "      <th>language</th>\n",
       "      <td>hindi</td>\n",
       "      <td>hindi</td>\n",
       "    </tr>\n",
       "    <tr>\n",
       "      <th>overall_sentiment</th>\n",
       "      <td>negative</td>\n",
       "      <td>negative</td>\n",
       "    </tr>\n",
       "    <tr>\n",
       "      <th>call_opening_score</th>\n",
       "      <td>0.0</td>\n",
       "      <td>0.0</td>\n",
       "    </tr>\n",
       "    <tr>\n",
       "      <th>call_closing_score</th>\n",
       "      <td>0.0</td>\n",
       "      <td>0.0</td>\n",
       "    </tr>\n",
       "  </tbody>\n",
       "</table>\n",
       "</div>"
      ],
      "text/plain": [
       "                     Call 1.wav   Call 2.wav\n",
       "id                   Call_1.wav   Call_2.wav\n",
       "audio_duration               82          107\n",
       "audio_file_size     2563.917969  2563.917969\n",
       "language                  hindi        hindi\n",
       "overall_sentiment      negative     negative\n",
       "call_opening_score          0.0          0.0\n",
       "call_closing_score          0.0          0.0"
      ]
     },
     "execution_count": 19,
     "metadata": {},
     "output_type": "execute_result"
    }
   ],
   "source": [
    "dff = pd.DataFrame.from_dict(data)\n",
    "dff"
   ]
  },
  {
   "cell_type": "code",
   "execution_count": 20,
   "metadata": {},
   "outputs": [
    {
     "data": {
      "text/plain": [
       "Index(['Call 1.wav', 'Call 2.wav'], dtype='object')"
      ]
     },
     "execution_count": 20,
     "metadata": {},
     "output_type": "execute_result"
    }
   ],
   "source": [
    "dff.columns"
   ]
  },
  {
   "cell_type": "code",
   "execution_count": 21,
   "metadata": {},
   "outputs": [
    {
     "data": {
      "text/plain": [
       "Index(['id', 'audio_duration', 'audio_file_size', 'language',\n",
       "       'overall_sentiment', 'call_opening_score', 'call_closing_score'],\n",
       "      dtype='object')"
      ]
     },
     "execution_count": 21,
     "metadata": {},
     "output_type": "execute_result"
    }
   ],
   "source": [
    "dff.index"
   ]
  },
  {
   "cell_type": "code",
   "execution_count": 22,
   "metadata": {},
   "outputs": [],
   "source": [
    "output = []\n",
    "for k,v in data.items():\n",
    "    res = {}\n",
    "    res[\"audio_filename\"] = k\n",
    "    for attr, value in v.items():\n",
    "        res[attr] = value\n",
    "    output.append(res)\n"
   ]
  },
  {
   "cell_type": "code",
   "execution_count": 23,
   "metadata": {},
   "outputs": [
    {
     "data": {
      "text/html": [
       "<div>\n",
       "<style scoped>\n",
       "    .dataframe tbody tr th:only-of-type {\n",
       "        vertical-align: middle;\n",
       "    }\n",
       "\n",
       "    .dataframe tbody tr th {\n",
       "        vertical-align: top;\n",
       "    }\n",
       "\n",
       "    .dataframe thead th {\n",
       "        text-align: right;\n",
       "    }\n",
       "</style>\n",
       "<table border=\"1\" class=\"dataframe\">\n",
       "  <thead>\n",
       "    <tr style=\"text-align: right;\">\n",
       "      <th></th>\n",
       "      <th>audio_filename</th>\n",
       "      <th>id</th>\n",
       "      <th>audio_duration</th>\n",
       "      <th>audio_file_size</th>\n",
       "      <th>language</th>\n",
       "      <th>overall_sentiment</th>\n",
       "      <th>call_opening_score</th>\n",
       "      <th>call_closing_score</th>\n",
       "    </tr>\n",
       "  </thead>\n",
       "  <tbody>\n",
       "    <tr>\n",
       "      <th>0</th>\n",
       "      <td>Call 1.wav</td>\n",
       "      <td>Call_1.wav</td>\n",
       "      <td>82</td>\n",
       "      <td>2563.917969</td>\n",
       "      <td>hindi</td>\n",
       "      <td>negative</td>\n",
       "      <td>0.0</td>\n",
       "      <td>0.0</td>\n",
       "    </tr>\n",
       "    <tr>\n",
       "      <th>1</th>\n",
       "      <td>Call 2.wav</td>\n",
       "      <td>Call_2.wav</td>\n",
       "      <td>107</td>\n",
       "      <td>2563.917969</td>\n",
       "      <td>hindi</td>\n",
       "      <td>negative</td>\n",
       "      <td>0.0</td>\n",
       "      <td>0.0</td>\n",
       "    </tr>\n",
       "  </tbody>\n",
       "</table>\n",
       "</div>"
      ],
      "text/plain": [
       "  audio_filename          id  audio_duration  audio_file_size language  \\\n",
       "0     Call 1.wav  Call_1.wav              82      2563.917969    hindi   \n",
       "1     Call 2.wav  Call_2.wav             107      2563.917969    hindi   \n",
       "\n",
       "  overall_sentiment  call_opening_score  call_closing_score  \n",
       "0          negative                 0.0                 0.0  \n",
       "1          negative                 0.0                 0.0  "
      ]
     },
     "execution_count": 23,
     "metadata": {},
     "output_type": "execute_result"
    }
   ],
   "source": [
    "dff = pd.DataFrame.from_dict(output)\n",
    "dff"
   ]
  },
  {
   "cell_type": "code",
   "execution_count": 24,
   "metadata": {},
   "outputs": [
    {
     "data": {
      "text/html": [
       "<div>\n",
       "<style scoped>\n",
       "    .dataframe tbody tr th:only-of-type {\n",
       "        vertical-align: middle;\n",
       "    }\n",
       "\n",
       "    .dataframe tbody tr th {\n",
       "        vertical-align: top;\n",
       "    }\n",
       "\n",
       "    .dataframe thead th {\n",
       "        text-align: right;\n",
       "    }\n",
       "</style>\n",
       "<table border=\"1\" class=\"dataframe\">\n",
       "  <thead>\n",
       "    <tr style=\"text-align: right;\">\n",
       "      <th></th>\n",
       "      <th>Unnamed: 0</th>\n",
       "      <th>parts</th>\n",
       "      <th>duration</th>\n",
       "      <th>keywords</th>\n",
       "      <th>sentiment</th>\n",
       "      <th>dialouge</th>\n",
       "    </tr>\n",
       "  </thead>\n",
       "  <tbody>\n",
       "    <tr>\n",
       "      <th>0</th>\n",
       "      <td>0</td>\n",
       "      <td>1</td>\n",
       "      <td>79.83</td>\n",
       "      <td>key phrase5</td>\n",
       "      <td>positive</td>\n",
       "      <td>नमस्कार।</td>\n",
       "    </tr>\n",
       "    <tr>\n",
       "      <th>1</th>\n",
       "      <td>1</td>\n",
       "      <td>1</td>\n",
       "      <td>79.83</td>\n",
       "      <td>key phrase7</td>\n",
       "      <td>positive</td>\n",
       "      <td>नमस्कार।</td>\n",
       "    </tr>\n",
       "    <tr>\n",
       "      <th>2</th>\n",
       "      <td>2</td>\n",
       "      <td>1</td>\n",
       "      <td>79.83</td>\n",
       "      <td>key phrase6</td>\n",
       "      <td>negative</td>\n",
       "      <td>सी बैंक के लोन लोन डिपार्टमेंट से मैं मनोज आपक...</td>\n",
       "    </tr>\n",
       "    <tr>\n",
       "      <th>3</th>\n",
       "      <td>3</td>\n",
       "      <td>1</td>\n",
       "      <td>79.83</td>\n",
       "      <td>key phrase7</td>\n",
       "      <td>negative</td>\n",
       "      <td>सी बैंक के लोन लोन डिपार्टमेंट से मैं मनोज आपक...</td>\n",
       "    </tr>\n",
       "    <tr>\n",
       "      <th>4</th>\n",
       "      <td>4</td>\n",
       "      <td>1</td>\n",
       "      <td>79.83</td>\n",
       "      <td>key phrase4</td>\n",
       "      <td>negative</td>\n",
       "      <td>येह नमस्कार मनोज मेरा नाम विक्रांत है और मेरे ...</td>\n",
       "    </tr>\n",
       "    <tr>\n",
       "      <th>...</th>\n",
       "      <td>...</td>\n",
       "      <td>...</td>\n",
       "      <td>...</td>\n",
       "      <td>...</td>\n",
       "      <td>...</td>\n",
       "      <td>...</td>\n",
       "    </tr>\n",
       "    <tr>\n",
       "      <th>89</th>\n",
       "      <td>89</td>\n",
       "      <td>5</td>\n",
       "      <td>311.23</td>\n",
       "      <td>key phrase2</td>\n",
       "      <td>negative</td>\n",
       "      <td>जी विक्रम जी, क्या आप कोई और जानकारी प्राप्त क...</td>\n",
       "    </tr>\n",
       "    <tr>\n",
       "      <th>90</th>\n",
       "      <td>90</td>\n",
       "      <td>5</td>\n",
       "      <td>311.23</td>\n",
       "      <td>key phrase4</td>\n",
       "      <td>neutral</td>\n",
       "      <td>जी विकास जी, एलडीसी लोन डिपार्टमेंट में कॉल कर...</td>\n",
       "    </tr>\n",
       "    <tr>\n",
       "      <th>91</th>\n",
       "      <td>91</td>\n",
       "      <td>5</td>\n",
       "      <td>311.23</td>\n",
       "      <td>key phrase2</td>\n",
       "      <td>neutral</td>\n",
       "      <td>जी विकास जी, एलडीसी लोन डिपार्टमेंट में कॉल कर...</td>\n",
       "    </tr>\n",
       "    <tr>\n",
       "      <th>92</th>\n",
       "      <td>92</td>\n",
       "      <td>5</td>\n",
       "      <td>311.23</td>\n",
       "      <td>key phrase1</td>\n",
       "      <td>negative</td>\n",
       "      <td>धन्यवाद मैडम जी आपका भी।</td>\n",
       "    </tr>\n",
       "    <tr>\n",
       "      <th>93</th>\n",
       "      <td>93</td>\n",
       "      <td>5</td>\n",
       "      <td>311.23</td>\n",
       "      <td>key phrase4</td>\n",
       "      <td>negative</td>\n",
       "      <td>धन्यवाद मैडम जी आपका भी।</td>\n",
       "    </tr>\n",
       "  </tbody>\n",
       "</table>\n",
       "<p>94 rows × 6 columns</p>\n",
       "</div>"
      ],
      "text/plain": [
       "    Unnamed: 0  parts  duration     keywords sentiment  \\\n",
       "0            0      1     79.83  key phrase5  positive   \n",
       "1            1      1     79.83  key phrase7  positive   \n",
       "2            2      1     79.83  key phrase6  negative   \n",
       "3            3      1     79.83  key phrase7  negative   \n",
       "4            4      1     79.83  key phrase4  negative   \n",
       "..         ...    ...       ...          ...       ...   \n",
       "89          89      5    311.23  key phrase2  negative   \n",
       "90          90      5    311.23  key phrase4   neutral   \n",
       "91          91      5    311.23  key phrase2   neutral   \n",
       "92          92      5    311.23  key phrase1  negative   \n",
       "93          93      5    311.23  key phrase4  negative   \n",
       "\n",
       "                                             dialouge  \n",
       "0                                            नमस्कार।  \n",
       "1                                            नमस्कार।  \n",
       "2   सी बैंक के लोन लोन डिपार्टमेंट से मैं मनोज आपक...  \n",
       "3   सी बैंक के लोन लोन डिपार्टमेंट से मैं मनोज आपक...  \n",
       "4   येह नमस्कार मनोज मेरा नाम विक्रांत है और मेरे ...  \n",
       "..                                                ...  \n",
       "89  जी विक्रम जी, क्या आप कोई और जानकारी प्राप्त क...  \n",
       "90  जी विकास जी, एलडीसी लोन डिपार्टमेंट में कॉल कर...  \n",
       "91  जी विकास जी, एलडीसी लोन डिपार्टमेंट में कॉल कर...  \n",
       "92                           धन्यवाद मैडम जी आपका भी।  \n",
       "93                           धन्यवाद मैडम जी आपका भी।  \n",
       "\n",
       "[94 rows x 6 columns]"
      ]
     },
     "execution_count": 24,
     "metadata": {},
     "output_type": "execute_result"
    }
   ],
   "source": [
    "dff = pd.read_excel(\"PowerBi.xlsx\")\n",
    "if "
   ]
  },
  {
   "cell_type": "code",
   "execution_count": 3,
   "metadata": {},
   "outputs": [],
   "source": [
    "d1 = {\n",
    "    \"Call 1.wav\": {\n",
    "        \"id\": \"Call_1.wav\",\n",
    "        \"audio_duration\": 82,\n",
    "        \"audio_file_size\": 2563.91796875,\n",
    "        \"a\":0\n",
    "    },\n",
    "    \"Call 2.wav\": {\n",
    "        \"id\": \"Call_2.wav\",\n",
    "        \"audio_duration\": 107,\n",
    "        \"audio_file_size\": 2563.91796875\n",
    "    }\n",
    "}"
   ]
  },
  {
   "cell_type": "code",
   "execution_count": 4,
   "metadata": {},
   "outputs": [
    {
     "data": {
      "text/plain": [
       "2"
      ]
     },
     "execution_count": 4,
     "metadata": {},
     "output_type": "execute_result"
    }
   ],
   "source": [
    "len(d1)"
   ]
  },
  {
   "cell_type": "code",
   "execution_count": null,
   "metadata": {},
   "outputs": [],
   "source": []
  }
 ],
 "metadata": {
  "kernelspec": {
   "display_name": "Python 3",
   "language": "python",
   "name": "python3"
  },
  "language_info": {
   "codemirror_mode": {
    "name": "ipython",
    "version": 3
   },
   "file_extension": ".py",
   "mimetype": "text/x-python",
   "name": "python",
   "nbconvert_exporter": "python",
   "pygments_lexer": "ipython3",
   "version": "3.8.10"
  }
 },
 "nbformat": 4,
 "nbformat_minor": 2
}
