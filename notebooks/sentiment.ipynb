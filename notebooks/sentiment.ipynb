{
 "cells": [
  {
   "cell_type": "code",
   "execution_count": 1,
   "metadata": {},
   "outputs": [],
   "source": [
    "import requests, json"
   ]
  },
  {
   "cell_type": "code",
   "execution_count": 2,
   "metadata": {},
   "outputs": [],
   "source": [
    "LANGUAGE_ENDPOINT = \"https://proj-rnd-uae-et-language-001.cognitiveservices.azure.com/\"\n",
    "LANGUAGE_KEY = \"0b938542471248fda3aab56075a251c1\"\n",
    "\n",
    "words_sentiment_mapping_flag = True\n",
    "target_words_flag = True\n",
    "\n",
    "def send_request(dialogue):\n",
    "    data= {\n",
    "                \"kind\": \"SentimentAnalysis\",\n",
    "                \"parameters\": {\n",
    "                    \"modelVersion\": \"latest\",\n",
    "                    \"opinionMining\": \"True\"\n",
    "                },\n",
    "                \"analysisInput\":{\n",
    "                    \"documents\":[\n",
    "                        {\n",
    "                            \"id\":\"1\",\n",
    "                            \"language\":\"en\",\n",
    "                            \"text\": dialogue\n",
    "                        }\n",
    "                    ]\n",
    "                }\n",
    "            }\n",
    "\n",
    "    url = f\"{LANGUAGE_ENDPOINT}/language/:analyze-text?api-version=2023-04-15-preview\"\n",
    "\n",
    "    headers = {\n",
    "        \"Content-Type\": \"application/json\",\n",
    "        \"Ocp-Apim-Subscription-Key\": LANGUAGE_KEY\n",
    "    }\n",
    "\n",
    "    sentiment_response = requests.post(url= url, json=data, headers= headers)\n",
    "    return sentiment_response"
   ]
  },
  {
   "cell_type": "code",
   "execution_count": 3,
   "metadata": {},
   "outputs": [],
   "source": [
    "# sentiment_response.status_code"
   ]
  },
  {
   "cell_type": "code",
   "execution_count": 4,
   "metadata": {},
   "outputs": [],
   "source": [
    "def get_sentiment(sentiment_result):\n",
    "    overall_sentiment = sentiment_result[\"results\"][\"documents\"][0][\"sentiment\"]\n",
    "    print(f\"overall sentiment : \", overall_sentiment)\n",
    "    dic1 = sentiment_result[\"results\"][\"documents\"][0][\"confidenceScores\"]\n",
    "    max_sentiment = max(dic1, key=dic1.get)\n",
    "    print(f\"sentiment : {max_sentiment}\")\n",
    "    return overall_sentiment, max_sentiment"
   ]
  },
  {
   "cell_type": "code",
   "execution_count": 5,
   "metadata": {},
   "outputs": [],
   "source": [
    "def get_words_sentiment_mapping(sentiment_result):\n",
    "    words_sentiment_mapping = []\n",
    "    for item in sentiment_result[\"results\"][\"documents\"][0][\"sentences\"]:\n",
    "        opinions  = item[\"targets\"]\n",
    "        # print(len(opinions)) #depends on how many text-sentiment is predicted\n",
    "        # print(f\"{opinions}\\n\\n\")\n",
    "        for opinion in opinions:\n",
    "            sentiment = opinion[\"sentiment\"]\n",
    "            word = opinion[\"text\"]\n",
    "            pair = (word, sentiment)\n",
    "            words_sentiment_mapping.append(pair)\n",
    "    \n",
    "    return words_sentiment_mapping"
   ]
  },
  {
   "cell_type": "code",
   "execution_count": 6,
   "metadata": {},
   "outputs": [],
   "source": [
    "def get_sentiment_analysis(sentiment_result):\n",
    "    sentiment = get_sentiment(sentiment_result)[0]\n",
    "    result = {\"sentiment\": sentiment}\n",
    "    if words_sentiment_mapping_flag:\n",
    "        mapping = get_words_sentiment_mapping(sentiment_result)\n",
    "        result[\"words_sentiment_mapping\"] = mapping\n",
    "        if mapping and target_words_flag:\n",
    "            target_words = [item[0] for item in mapping]\n",
    "            result[\"target_words\"] = target_words\n",
    "    \n",
    "    return result"
   ]
  },
  {
   "cell_type": "code",
   "execution_count": 7,
   "metadata": {},
   "outputs": [],
   "source": [
    "def sentiment_helper():\n",
    "    sentiment_response = send_request(dialogue=\"\")\n",
    "    sentiment_result = json.loads(sentiment_response.text)\n",
    "\n",
    "    if sentiment_result[\"results\"][\"errors\"]:\n",
    "        error_msg =  f\"status code : {sentiment_response.status_code}. Response : {sentiment_response.text}\"\n",
    "        error_msg = \"\".join(sentiment_result[\"results\"][\"errors\"])\n",
    "        result = {\"status\": \"fail\", \"error\": error_msg}\n",
    "    else:\n",
    "        result = get_sentiment_analysis(sentiment_result)\n",
    "        result[\"status\"] = \"success\""
   ]
  },
  {
   "cell_type": "code",
   "execution_count": 9,
   "metadata": {},
   "outputs": [
    {
     "ename": "KeyError",
     "evalue": "'results'",
     "output_type": "error",
     "traceback": [
      "\u001b[1;31m---------------------------------------------------------------------------\u001b[0m",
      "\u001b[1;31mKeyError\u001b[0m                                  Traceback (most recent call last)",
      "Cell \u001b[1;32mIn [9], line 1\u001b[0m\n\u001b[1;32m----> 1\u001b[0m \u001b[43msentiment_helper\u001b[49m\u001b[43m(\u001b[49m\u001b[43m)\u001b[49m\n",
      "Cell \u001b[1;32mIn [7], line 5\u001b[0m, in \u001b[0;36msentiment_helper\u001b[1;34m()\u001b[0m\n\u001b[0;32m      2\u001b[0m sentiment_response \u001b[38;5;241m=\u001b[39m send_request(dialogue\u001b[38;5;241m=\u001b[39m\u001b[38;5;124m\"\u001b[39m\u001b[38;5;124m\"\u001b[39m)\n\u001b[0;32m      3\u001b[0m sentiment_result \u001b[38;5;241m=\u001b[39m json\u001b[38;5;241m.\u001b[39mloads(sentiment_response\u001b[38;5;241m.\u001b[39mtext)\n\u001b[1;32m----> 5\u001b[0m \u001b[38;5;28;01mif\u001b[39;00m \u001b[43msentiment_result\u001b[49m\u001b[43m[\u001b[49m\u001b[38;5;124;43m\"\u001b[39;49m\u001b[38;5;124;43mresults\u001b[39;49m\u001b[38;5;124;43m\"\u001b[39;49m\u001b[43m]\u001b[49m[\u001b[38;5;124m\"\u001b[39m\u001b[38;5;124merrors\u001b[39m\u001b[38;5;124m\"\u001b[39m]:\n\u001b[0;32m      6\u001b[0m     error_msg \u001b[38;5;241m=\u001b[39m  \u001b[38;5;124mf\u001b[39m\u001b[38;5;124m\"\u001b[39m\u001b[38;5;124mstatus code : \u001b[39m\u001b[38;5;132;01m{\u001b[39;00msentiment_response\u001b[38;5;241m.\u001b[39mstatus_code\u001b[38;5;132;01m}\u001b[39;00m\u001b[38;5;124m. Response : \u001b[39m\u001b[38;5;132;01m{\u001b[39;00msentiment_response\u001b[38;5;241m.\u001b[39mtext\u001b[38;5;132;01m}\u001b[39;00m\u001b[38;5;124m\"\u001b[39m\n\u001b[0;32m      7\u001b[0m     error_msg \u001b[38;5;241m=\u001b[39m \u001b[38;5;124m\"\u001b[39m\u001b[38;5;124m\"\u001b[39m\u001b[38;5;241m.\u001b[39mjoin(sentiment_result[\u001b[38;5;124m\"\u001b[39m\u001b[38;5;124mresults\u001b[39m\u001b[38;5;124m\"\u001b[39m][\u001b[38;5;124m\"\u001b[39m\u001b[38;5;124merrors\u001b[39m\u001b[38;5;124m\"\u001b[39m])\n",
      "\u001b[1;31mKeyError\u001b[0m: 'results'"
     ]
    }
   ],
   "source": [
    "sentiment_helper()"
   ]
  },
  {
   "cell_type": "code",
   "execution_count": 31,
   "metadata": {},
   "outputs": [
    {
     "data": {
      "text/plain": [
       "[{'id': '1',\n",
       "  'sentiment': 'mixed',\n",
       "  'confidenceScores': {'positive': 0.43, 'neutral': 0.04, 'negative': 0.53},\n",
       "  'sentences': [{'sentiment': 'negative',\n",
       "    'confidenceScores': {'positive': 0.0, 'neutral': 0.01, 'negative': 0.99},\n",
       "    'offset': 0,\n",
       "    'length': 40,\n",
       "    'text': 'The food and service were unacceptable. ',\n",
       "    'targets': [{'sentiment': 'negative',\n",
       "      'confidenceScores': {'positive': 0.01, 'negative': 0.99},\n",
       "      'offset': 4,\n",
       "      'length': 4,\n",
       "      'text': 'food',\n",
       "      'relations': [{'relationType': 'assessment',\n",
       "        'ref': '#/documents/0/sentences/0/assessments/0'}]},\n",
       "     {'sentiment': 'negative',\n",
       "      'confidenceScores': {'positive': 0.01, 'negative': 0.99},\n",
       "      'offset': 13,\n",
       "      'length': 7,\n",
       "      'text': 'service',\n",
       "      'relations': [{'relationType': 'assessment',\n",
       "        'ref': '#/documents/0/sentences/0/assessments/0'}]}],\n",
       "    'assessments': [{'sentiment': 'negative',\n",
       "      'confidenceScores': {'positive': 0.01, 'negative': 0.99},\n",
       "      'offset': 26,\n",
       "      'length': 12,\n",
       "      'text': 'unacceptable',\n",
       "      'isNegated': False}]},\n",
       "   {'sentiment': 'positive',\n",
       "    'confidenceScores': {'positive': 0.86, 'neutral': 0.08, 'negative': 0.07},\n",
       "    'offset': 40,\n",
       "    'length': 32,\n",
       "    'text': 'The concierge was nice, however.',\n",
       "    'targets': [{'sentiment': 'positive',\n",
       "      'confidenceScores': {'positive': 1.0, 'negative': 0.0},\n",
       "      'offset': 44,\n",
       "      'length': 9,\n",
       "      'text': 'concierge',\n",
       "      'relations': [{'relationType': 'assessment',\n",
       "        'ref': '#/documents/0/sentences/1/assessments/0'}]}],\n",
       "    'assessments': [{'sentiment': 'positive',\n",
       "      'confidenceScores': {'positive': 1.0, 'negative': 0.0},\n",
       "      'offset': 58,\n",
       "      'length': 4,\n",
       "      'text': 'nice',\n",
       "      'isNegated': False}]}],\n",
       "  'warnings': []}]"
      ]
     },
     "execution_count": 31,
     "metadata": {},
     "output_type": "execute_result"
    }
   ],
   "source": [
    "sentiment_result[\"results\"][\"documents\"]"
   ]
  },
  {
   "cell_type": "code",
   "execution_count": null,
   "metadata": {},
   "outputs": [],
   "source": []
  }
 ],
 "metadata": {
  "kernelspec": {
   "display_name": "Python 3",
   "language": "python",
   "name": "python3"
  },
  "language_info": {
   "codemirror_mode": {
    "name": "ipython",
    "version": 3
   },
   "file_extension": ".py",
   "mimetype": "text/x-python",
   "name": "python",
   "nbconvert_exporter": "python",
   "pygments_lexer": "ipython3",
   "version": "3.8.10"
  }
 },
 "nbformat": 4,
 "nbformat_minor": 2
}
